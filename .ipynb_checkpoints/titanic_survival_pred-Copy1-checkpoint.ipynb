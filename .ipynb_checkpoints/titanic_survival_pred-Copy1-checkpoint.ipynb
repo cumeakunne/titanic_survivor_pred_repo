{
 "cells": [
  {
   "cell_type": "code",
   "execution_count": null,
   "metadata": {},
   "outputs": [],
   "source": [
    "#Project Planning Overview\n",
    "\n",
    "\"\"\"Workflow Stages\"\"\"\n",
    "1. Problem Understanding | Question or problem definition.\n",
    "2. Data Collection | Acquire training and testing data.\n",
    "3. Data Cleaning and Harmonization | Wrangle, prepare, cleanse the data. | Add all iterations here. Note which.\n",
    "4. Data Exploration | Analyze, identify patterns, and explore the data.  | Add all iterations here. Note which.\n",
    "5. Data Model Building | Model, predict and solve the problem.\n",
    "6. Data Model Validation and Reporting | Visualize, report, and present the problem solving steps and final solution.\n",
    "7. Solution Submission | Supply or submit the results.\n",
    "\n",
    "\n",
    "\"\"\"Workflow Goals: Follow 7 C's \"\"\"\n",
    "- Classifying \n",
    "- Correlating\n",
    "- Converting \n",
    "- Completing\n",
    "- Correcting \n",
    "- Creating \n",
    "- Charting"
   ]
  },
  {
   "cell_type": "code",
   "execution_count": null,
   "metadata": {},
   "outputs": [],
   "source": [
    "#References:\n",
    " #   https://www.kaggle.com/startupsci/titanic-data-science-solutions\n",
    " #   https://www.kaggle.com/miguelquiceno/titanic-eda/execution\n",
    " #   https://www.youtube.com/watch?v=I3FBJdiExcg&t=371s"
   ]
  },
  {
   "cell_type": "code",
   "execution_count": null,
   "metadata": {},
   "outputs": [],
   "source": [
    "1. Problem Understanding | Question or problem definition."
   ]
  },
  {
   "cell_type": "code",
   "execution_count": null,
   "metadata": {},
   "outputs": [],
   "source": [
    "#Update later\n",
    "#credit - https://www.kaggle.com/startupsci/titanic-data-science-solutions\n",
    "Problem Statement   \n",
    "Knowing from a training set of samples listing passengers who survived or did not survive the Titanic disaster, can our model determine based on a given test dataset not containing the survival information, if these passengers in the test dataset survived or not.\n",
    "\n",
    "Domain Knowledge\n",
    "On April 15, 1912, during her maiden voyage, the Titanic sank after colliding with an iceberg, killing 1502 out of 2224 passengers and crew. \n",
    "Translated 32% survival rate.\n",
    "One of the reasons that the shipwreck led to such loss of life was that there were not enough lifeboats for the passengers and crew.\n",
    "Although there was some element of luck involved in surviving the sinking, some groups of people were more likely to survive than others, such as women, children, and the upper-class.\n"
   ]
  },
  {
   "cell_type": "code",
   "execution_count": 1,
   "metadata": {},
   "outputs": [],
   "source": [
    "#data wrangling\n",
    "import pandas as pd\n",
    "import numpy as np\n",
    "import re\n",
    "import time, datetime  \n",
    "\n",
    "#visualizations\n",
    "import matplotlib.pyplot as plt\n",
    "import seaborn as sns\n",
    "import missingno as msno\n",
    "#%matplotlib inline\n",
    "\n",
    "#data scaler\n",
    "from sklearn.preprocessing import StandardScaler as sclr\n",
    "\n",
    "#machine learning\n",
    "from sklearn.linear_model import LogisticRegression as logr\n",
    "from sklearn import tree\n",
    "from sklearn.naive_bayes import GaussianNB as gnb\n",
    "from sklearn.neighbors import KNeighborsClassifier\n",
    "from sklearn.svm import SVC\n",
    "\n",
    "#ml ensembles\n",
    "from xgboost import XGBClassifier\n",
    "from sklearn.ensemble import RandomForestClassifier\n",
    "from sklearn.ensemble import AdaBoostClassifier\n",
    "from sklearn.ensemble import GradientBoostingClassifier\n",
    "from sklearn.ensemble import VotingClassifier\n",
    "\n",
    "#model tuning\n",
    "from sklearn.model_selection import GridSearchCV\n",
    "from sklearn.model_selection import RandomizedSearchCV\n",
    "\n",
    "#model scoring\n",
    "from sklearn.model_selection import cross_val_score as cv_score"
   ]
  },
  {
   "cell_type": "code",
   "execution_count": null,
   "metadata": {},
   "outputs": [],
   "source": [
    "2. Data Collection | Acquire training and testing data."
   ]
  },
  {
   "cell_type": "code",
   "execution_count": 2,
   "metadata": {},
   "outputs": [
    {
     "data": {
      "text/html": [
       "<div>\n",
       "<style scoped>\n",
       "    .dataframe tbody tr th:only-of-type {\n",
       "        vertical-align: middle;\n",
       "    }\n",
       "\n",
       "    .dataframe tbody tr th {\n",
       "        vertical-align: top;\n",
       "    }\n",
       "\n",
       "    .dataframe thead th {\n",
       "        text-align: right;\n",
       "    }\n",
       "</style>\n",
       "<table border=\"1\" class=\"dataframe\">\n",
       "  <thead>\n",
       "    <tr style=\"text-align: right;\">\n",
       "      <th></th>\n",
       "      <th>PassengerId</th>\n",
       "      <th>Pclass</th>\n",
       "      <th>Name</th>\n",
       "      <th>Sex</th>\n",
       "      <th>Age</th>\n",
       "      <th>SibSp</th>\n",
       "      <th>Parch</th>\n",
       "      <th>Ticket</th>\n",
       "      <th>Fare</th>\n",
       "      <th>Cabin</th>\n",
       "      <th>Embarked</th>\n",
       "      <th>Survived</th>\n",
       "    </tr>\n",
       "  </thead>\n",
       "  <tbody>\n",
       "    <tr>\n",
       "      <td>0</td>\n",
       "      <td>892</td>\n",
       "      <td>3</td>\n",
       "      <td>Kelly, Mr. James</td>\n",
       "      <td>male</td>\n",
       "      <td>34.5</td>\n",
       "      <td>0</td>\n",
       "      <td>0</td>\n",
       "      <td>330911</td>\n",
       "      <td>7.8292</td>\n",
       "      <td>NaN</td>\n",
       "      <td>Q</td>\n",
       "      <td>NaN</td>\n",
       "    </tr>\n",
       "    <tr>\n",
       "      <td>1</td>\n",
       "      <td>893</td>\n",
       "      <td>3</td>\n",
       "      <td>Wilkes, Mrs. James (Ellen Needs)</td>\n",
       "      <td>female</td>\n",
       "      <td>47.0</td>\n",
       "      <td>1</td>\n",
       "      <td>0</td>\n",
       "      <td>363272</td>\n",
       "      <td>7.0000</td>\n",
       "      <td>NaN</td>\n",
       "      <td>S</td>\n",
       "      <td>NaN</td>\n",
       "    </tr>\n",
       "    <tr>\n",
       "      <td>2</td>\n",
       "      <td>894</td>\n",
       "      <td>2</td>\n",
       "      <td>Myles, Mr. Thomas Francis</td>\n",
       "      <td>male</td>\n",
       "      <td>62.0</td>\n",
       "      <td>0</td>\n",
       "      <td>0</td>\n",
       "      <td>240276</td>\n",
       "      <td>9.6875</td>\n",
       "      <td>NaN</td>\n",
       "      <td>Q</td>\n",
       "      <td>NaN</td>\n",
       "    </tr>\n",
       "    <tr>\n",
       "      <td>3</td>\n",
       "      <td>895</td>\n",
       "      <td>3</td>\n",
       "      <td>Wirz, Mr. Albert</td>\n",
       "      <td>male</td>\n",
       "      <td>27.0</td>\n",
       "      <td>0</td>\n",
       "      <td>0</td>\n",
       "      <td>315154</td>\n",
       "      <td>8.6625</td>\n",
       "      <td>NaN</td>\n",
       "      <td>S</td>\n",
       "      <td>NaN</td>\n",
       "    </tr>\n",
       "    <tr>\n",
       "      <td>4</td>\n",
       "      <td>896</td>\n",
       "      <td>3</td>\n",
       "      <td>Hirvonen, Mrs. Alexander (Helga E Lindqvist)</td>\n",
       "      <td>female</td>\n",
       "      <td>22.0</td>\n",
       "      <td>1</td>\n",
       "      <td>1</td>\n",
       "      <td>3101298</td>\n",
       "      <td>12.2875</td>\n",
       "      <td>NaN</td>\n",
       "      <td>S</td>\n",
       "      <td>NaN</td>\n",
       "    </tr>\n",
       "  </tbody>\n",
       "</table>\n",
       "</div>"
      ],
      "text/plain": [
       "   PassengerId  Pclass                                          Name     Sex  \\\n",
       "0          892       3                              Kelly, Mr. James    male   \n",
       "1          893       3              Wilkes, Mrs. James (Ellen Needs)  female   \n",
       "2          894       2                     Myles, Mr. Thomas Francis    male   \n",
       "3          895       3                              Wirz, Mr. Albert    male   \n",
       "4          896       3  Hirvonen, Mrs. Alexander (Helga E Lindqvist)  female   \n",
       "\n",
       "    Age  SibSp  Parch   Ticket     Fare Cabin Embarked  Survived  \n",
       "0  34.5      0      0   330911   7.8292   NaN        Q       NaN  \n",
       "1  47.0      1      0   363272   7.0000   NaN        S       NaN  \n",
       "2  62.0      0      0   240276   9.6875   NaN        Q       NaN  \n",
       "3  27.0      0      0   315154   8.6625   NaN        S       NaN  \n",
       "4  22.0      1      1  3101298  12.2875   NaN        S       NaN  "
      ]
     },
     "execution_count": 2,
     "metadata": {},
     "output_type": "execute_result"
    }
   ],
   "source": [
    "#read in training and test sets\n",
    "train = pd.read_csv('train.csv')\n",
    "test = pd.read_csv('test.csv')\n",
    "\n",
    "#add a survival column to our test set\n",
    "test['Survived'] = np.nan\n",
    "\n",
    "#1st look at data\n",
    "test.head()"
   ]
  },
  {
   "cell_type": "code",
   "execution_count": 4,
   "metadata": {},
   "outputs": [
    {
     "data": {
      "text/plain": [
       "Index(['PassengerId', 'Survived', 'Pclass', 'Name', 'Sex', 'Age', 'SibSp',\n",
       "       'Parch', 'Ticket', 'Fare', 'Cabin', 'Embarked'],\n",
       "      dtype='object')"
      ]
     },
     "execution_count": 4,
     "metadata": {},
     "output_type": "execute_result"
    }
   ],
   "source": [
    "#Identify all columns\n",
    "train.columns"
   ]
  },
  {
   "cell_type": "code",
   "execution_count": 5,
   "metadata": {},
   "outputs": [
    {
     "data": {
      "text/plain": [
       "<matplotlib.axes._subplots.AxesSubplot at 0x11152095788>"
      ]
     },
     "execution_count": 5,
     "metadata": {},
     "output_type": "execute_result"
    },
    {
     "data": {
      "image/png": "[encoded data removed]",
      "text/plain": [
       "<Figure size 1800x720 with 2 Axes>"
      ]
     },
     "metadata": {
      "needs_background": "light"
     },
     "output_type": "display_data"
    }
   ],
   "source": [
    "#Visualize missing values as a matrix \n",
    "msno.matrix(train)\n",
    "\n",
    "#Age, Cabin, and Embarked have missing values\n",
    "#missing values appear randomly dispersed throughout the dataset"
   ]
  },
  {
   "cell_type": "code",
   "execution_count": null,
   "metadata": {},
   "outputs": [],
   "source": [
    "#Check training set for null values and mismatched data types\n",
    "train.info()\n",
    "\n",
    "# ~20% of Age and ~80% of Cabin are missing values | Cabin likely has too few to use, Age may be salvageble\n",
    "# Only 2 records have missing 'Embarked' entry which is negligible\n",
    "\n",
    "# we expected 891 entries and recieved 891 entries, therefore we can conclude import did not lead to present nulls"
   ]
  },
  {
   "cell_type": "code",
   "execution_count": 108,
   "metadata": {},
   "outputs": [
    {
     "name": "stdout",
     "output_type": "stream",
     "text": [
      "<class 'pandas.core.frame.DataFrame'>\n",
      "RangeIndex: 418 entries, 0 to 417\n",
      "Data columns (total 12 columns):\n",
      "PassengerId    418 non-null int64\n",
      "Pclass         418 non-null int64\n",
      "Name           418 non-null object\n",
      "Sex            418 non-null object\n",
      "Age            332 non-null float64\n",
      "SibSp          418 non-null int64\n",
      "Parch          418 non-null int64\n",
      "Ticket         418 non-null object\n",
      "Fare           417 non-null float64\n",
      "Cabin          91 non-null object\n",
      "Embarked       418 non-null object\n",
      "Survived       0 non-null float64\n",
      "dtypes: float64(3), int64(4), object(5)\n",
      "memory usage: 39.3+ KB\n"
     ]
    }
   ],
   "source": [
    "#Check test set for null values and mismatched data types\n",
    "test.info()\n",
    "\n",
    "#~20% of Age and ~80% are missing values. Consistent with traing set.\n",
    "# only 1 record for Fare is missing"
   ]
  },
  {
   "cell_type": "code",
   "execution_count": null,
   "metadata": {},
   "outputs": [],
   "source": [
    "3. Data Preprocessing | Wrangle, prepare, feature engineer, cleanse the data."
   ]
  },
  {
   "cell_type": "code",
   "execution_count": null,
   "metadata": {},
   "outputs": [],
   "source": [
    "# Data Categorization - we look at df index, head and data dictionary to classify data\n",
    "\n",
    "# Variables: Categorical \n",
    "- Factor | str\n",
    "Pclass, Name, Ticket, Cabin, Embarked\n",
    "\n",
    "- Factor | numeric\n",
    "PassengerID, Pclass\n",
    "\n",
    "- Binary | numeric and str\n",
    "Survived, set_type, and Sex \n",
    "\n",
    "# Variables: Continuous |Numeric \n",
    "- Age, Fare, Parch, SibSp"
   ]
  },
  {
   "cell_type": "code",
   "execution_count": null,
   "metadata": {},
   "outputs": [],
   "source": [
    "3.1 Feature Engineering"
   ]
  },
  {
   "cell_type": "code",
   "execution_count": null,
   "metadata": {},
   "outputs": [],
   "source": [
    "#potential features list\n",
    "1. ticket binning feature maybe cabin binning feature\n",
    "2. convert sex str into dummy 1 and 0s\n",
    "3. bin Age, Fare Compare with survival through pivot analysis"
   ]
  },
  {
   "cell_type": "code",
   "execution_count": 3,
   "metadata": {},
   "outputs": [
    {
     "data": {
      "text/plain": [
       "Mr        240\n",
       "Miss       78\n",
       "Mrs        72\n",
       "Master     21\n",
       "Rev         2\n",
       "Col         2\n",
       "Ms          1\n",
       "Dona        1\n",
       "Dr          1\n",
       "Name: title, dtype: int64"
      ]
     },
     "execution_count": 3,
     "metadata": {},
     "output_type": "execute_result"
    }
   ],
   "source": [
    "#New feature: add a title feature to track correlation of surival with passenger title\n",
    "train['title'] = train['Name'].apply(lambda x: x.split(', ')[1].split('.')[0])\n",
    "test['title'] = test['Name'].apply(lambda x: x.split(', ')[1].split('.')[0])\n",
    "test['title'].value_counts()"
   ]
  },
  {
   "cell_type": "code",
   "execution_count": 4,
   "metadata": {},
   "outputs": [
    {
     "data": {
      "text/html": [
       "<div>\n",
       "<style scoped>\n",
       "    .dataframe tbody tr th:only-of-type {\n",
       "        vertical-align: middle;\n",
       "    }\n",
       "\n",
       "    .dataframe tbody tr th {\n",
       "        vertical-align: top;\n",
       "    }\n",
       "\n",
       "    .dataframe thead th {\n",
       "        text-align: right;\n",
       "    }\n",
       "</style>\n",
       "<table border=\"1\" class=\"dataframe\">\n",
       "  <thead>\n",
       "    <tr style=\"text-align: right;\">\n",
       "      <th></th>\n",
       "      <th>PassengerId</th>\n",
       "      <th>Survived</th>\n",
       "      <th>Pclass</th>\n",
       "      <th>Name</th>\n",
       "      <th>Sex</th>\n",
       "      <th>Age</th>\n",
       "      <th>SibSp</th>\n",
       "      <th>Parch</th>\n",
       "      <th>Ticket</th>\n",
       "      <th>Fare</th>\n",
       "      <th>Cabin</th>\n",
       "      <th>Embarked</th>\n",
       "      <th>title</th>\n",
       "    </tr>\n",
       "  </thead>\n",
       "  <tbody>\n",
       "    <tr>\n",
       "      <td>745</td>\n",
       "      <td>746</td>\n",
       "      <td>0</td>\n",
       "      <td>1</td>\n",
       "      <td>Crosby, Capt. Edward Gifford</td>\n",
       "      <td>male</td>\n",
       "      <td>70.0</td>\n",
       "      <td>1</td>\n",
       "      <td>1</td>\n",
       "      <td>WE/P 5735</td>\n",
       "      <td>71.0</td>\n",
       "      <td>B22</td>\n",
       "      <td>S</td>\n",
       "      <td>Capt</td>\n",
       "    </tr>\n",
       "    <tr>\n",
       "      <td>759</td>\n",
       "      <td>760</td>\n",
       "      <td>1</td>\n",
       "      <td>1</td>\n",
       "      <td>Rothes, the Countess. of (Lucy Noel Martha Dye...</td>\n",
       "      <td>female</td>\n",
       "      <td>33.0</td>\n",
       "      <td>0</td>\n",
       "      <td>0</td>\n",
       "      <td>110152</td>\n",
       "      <td>86.5</td>\n",
       "      <td>B77</td>\n",
       "      <td>S</td>\n",
       "      <td>the Countess</td>\n",
       "    </tr>\n",
       "  </tbody>\n",
       "</table>\n",
       "</div>"
      ],
      "text/plain": [
       "     PassengerId  Survived  Pclass  \\\n",
       "745          746         0       1   \n",
       "759          760         1       1   \n",
       "\n",
       "                                                  Name     Sex   Age  SibSp  \\\n",
       "745                       Crosby, Capt. Edward Gifford    male  70.0      1   \n",
       "759  Rothes, the Countess. of (Lucy Noel Martha Dye...  female  33.0      0   \n",
       "\n",
       "     Parch     Ticket  Fare Cabin Embarked         title  \n",
       "745      1  WE/P 5735  71.0   B22        S          Capt  \n",
       "759      0     110152  86.5   B77        S  the Countess  "
      ]
     },
     "execution_count": 4,
     "metadata": {},
     "output_type": "execute_result"
    }
   ],
   "source": [
    "#Personal Curiosity: Let's peak at the survival of the ship's Captain and a Countess!\n",
    "train[train['Name'].str.contains(r'C[ao][pu][tn]',regex=True)][2:] #Royal surives while the Captain goes down with his ship."
   ]
  },
  {
   "cell_type": "code",
   "execution_count": 4,
   "metadata": {},
   "outputs": [
    {
     "data": {
      "text/plain": [
       "0    327\n",
       "C     35\n",
       "B     18\n",
       "D     13\n",
       "E      9\n",
       "F      8\n",
       "A      7\n",
       "G      1\n",
       "Name: Cabin_letter, dtype: int64"
      ]
     },
     "execution_count": 4,
     "metadata": {},
     "output_type": "execute_result"
    }
   ],
   "source": [
    "#New feature: Cabin letter - see if a passengers cabin section correlates with survival\n",
    "train['Cabin_letter'] = train.Cabin.apply(lambda x: 0 if pd.isna(x) else x[0])\n",
    "test['Cabin_letter'] = test.Cabin.apply(lambda x: 0 if pd.isna(x) else x[0]) \n",
    "test.Cabin_letter.value_counts()"
   ]
  },
  {
   "cell_type": "code",
   "execution_count": null,
   "metadata": {},
   "outputs": [],
   "source": [
    "3.2 Data Cleaning and Harmonization"
   ]
  },
  {
   "cell_type": "code",
   "execution_count": 17,
   "metadata": {},
   "outputs": [
    {
     "data": {
      "text/plain": [
       "Index(['PassengerId', 'Survived', 'Pclass', 'Name', 'Sex', 'Age', 'SibSp',\n",
       "       'Parch', 'Ticket', 'Fare', 'Cabin', 'Embarked', 'fare_norm', 'title',\n",
       "       'Cabin_letter'],\n",
       "      dtype='object')"
      ]
     },
     "execution_count": 17,
     "metadata": {},
     "output_type": "execute_result"
    }
   ],
   "source": [
    "train.columns"
   ]
  },
  {
   "cell_type": "code",
   "execution_count": 5,
   "metadata": {},
   "outputs": [
    {
     "name": "stderr",
     "output_type": "stream",
     "text": [
      "C:\\Users\\cumea\\Anaconda3\\lib\\site-packages\\pandas\\core\\series.py:853: RuntimeWarning: invalid value encountered in log\n",
      "  result = getattr(ufunc, method)(*inputs, **kwargs)\n"
     ]
    }
   ],
   "source": [
    "#Deal with null values in Age, Cabin, and Embarked Columns\n",
    "\n",
    "\n",
    "#Data Correction\n",
    "    #drop embarked nulls since there are only 2\n",
    "train.dropna(subset=['Embarked'], inplace=True)\n",
    "test.dropna(subset=['Embarked'], inplace=True)\n",
    "\n",
    "#Data Completion\n",
    "    #impute Age value for models can't handle Nulls | used the mode in this case 4 minus the median = 24.\n",
    "train['Age'] = train['Age'].fillna(value=(train['Age'].median()-4))\n",
    "test['Age'] = test['Age'].fillna(value=(train['Age'].median()-4))\n",
    "\n",
    "#Data Convertion\n",
    "    #normalize Fare feature using a log transformation since it is exponential\n",
    "train['Fare_norm'] = np.log(train.Fare-1) #include -1 to address -inf for zero dollar Fares\n",
    "train['Fare_norm'] = train['Fare_norm'].fillna(value=1) #fix zero Fares not correctly scaled to 1\n",
    "test['Fare_norm'] = np.log(test.Fare-1)\n",
    "test['Fare_norm'] = test['Fare_norm'].fillna(value=1)\n",
    "\n",
    "    #convert factors to numeric type | aka create dummy variables \n",
    "train_dum = pd.get_dummies(train[['Pclass', 'Sex', 'Age', 'SibSp', 'Parch', 'Embarked', 'Fare_norm', 'title', 'Cabin_letter']])\n",
    "test_dum = pd.get_dummies(test[['Pclass', 'Sex', 'Age', 'SibSp', 'Parch', 'Embarked', 'Fare_norm', 'title', 'Cabin_letter']])\n",
    "\n",
    "    #drop Cabin column \n",
    "train.drop(columns='Cabin',inplace=True)\n",
    "\n",
    "#standardize data using standard scalerf\n",
    "#select variables to inlcude in model"
   ]
  },
  {
   "cell_type": "code",
   "execution_count": 7,
   "metadata": {},
   "outputs": [
    {
     "data": {
      "text/plain": [
       "<matplotlib.axes._subplots.AxesSubplot at 0x28e1fcaff08>"
      ]
     },
     "execution_count": 7,
     "metadata": {},
     "output_type": "execute_result"
    },
    {
     "data": {
      "image/png": "[encoded data removed]",
      "text/plain": [
       "<Figure size 432x288 with 1 Axes>"
      ]
     },
     "metadata": {
      "needs_background": "light"
     },
     "output_type": "display_data"
    }
   ],
   "source": [
    "#normalize Fare feature plot\n",
    "train.Fare_norm.hist()"
   ]
  },
  {
   "cell_type": "code",
   "execution_count": 6,
   "metadata": {},
   "outputs": [],
   "source": [
    "#create an unscaled partitioned x training and test sets\n",
    "x_train = train_dum\n",
    "y_train = train['Survived']\n",
    "\n",
    "x_test = test_dum\n",
    "y_test = test['Survived']"
   ]
  },
  {
   "cell_type": "code",
   "execution_count": 7,
   "metadata": {},
   "outputs": [
    {
     "data": {
      "text/plain": [
       "Index(['Pclass', 'Age', 'SibSp', 'Parch', 'Fare_norm', 'Sex_female',\n",
       "       'Sex_male', 'Embarked_C', 'Embarked_Q', 'Embarked_S', 'title_Capt',\n",
       "       'title_Col', 'title_Don', 'title_Dr', 'title_Jonkheer', 'title_Lady',\n",
       "       'title_Major', 'title_Master', 'title_Miss', 'title_Mlle', 'title_Mme',\n",
       "       'title_Mr', 'title_Mrs', 'title_Ms', 'title_Rev', 'title_Sir',\n",
       "       'title_the Countess', 'Cabin_letter_0', 'Cabin_letter_A',\n",
       "       'Cabin_letter_B', 'Cabin_letter_C', 'Cabin_letter_D', 'Cabin_letter_E',\n",
       "       'Cabin_letter_F', 'Cabin_letter_G', 'Cabin_letter_T', 'title_Dona'],\n",
       "      dtype='object')"
      ]
     },
     "execution_count": 7,
     "metadata": {},
     "output_type": "execute_result"
    }
   ],
   "source": [
    "#add missing columns from test set that is in training set and vice-versa\n",
    "x_test['title_Capt'] = 0 \n",
    "x_test['title_Lady'] = 0 \n",
    "x_test['title_Major'] = 0 \n",
    "x_test['title_Jonkheer'] = 0 \n",
    "x_test['title_Mlle'] = 0 \n",
    "x_test['title_Mme'] = 0 \n",
    "x_test['title_Sir'] = 0 \n",
    "x_test['title_the Countess'] = 0 \n",
    "x_test['Cabin_letter_T'] = 0 \n",
    "x_test['title_Don']=0\n",
    "x_train['title_Dona']=0\n",
    "\n",
    "#rearrange dataframe columns to match\n",
    "x_test = x_test[['Pclass', 'Age', 'SibSp', 'Parch', 'Fare_norm', 'Sex_female',\n",
    "       'Sex_male', 'Embarked_C', 'Embarked_Q', 'Embarked_S', 'title_Capt',\n",
    "       'title_Col', 'title_Don', 'title_Dr', 'title_Jonkheer', 'title_Lady',\n",
    "       'title_Major', 'title_Master', 'title_Miss', 'title_Mlle', 'title_Mme',\n",
    "       'title_Mr', 'title_Mrs', 'title_Ms', 'title_Rev', 'title_Sir',\n",
    "       'title_the Countess', 'Cabin_letter_0', 'Cabin_letter_A',\n",
    "       'Cabin_letter_B', 'Cabin_letter_C', 'Cabin_letter_D', 'Cabin_letter_E',\n",
    "       'Cabin_letter_F', 'Cabin_letter_G', 'Cabin_letter_T', 'title_Dona']]\n",
    "\n",
    "x_test.columns"
   ]
  },
  {
   "cell_type": "code",
   "execution_count": 8,
   "metadata": {},
   "outputs": [],
   "source": [
    "# Data Conversion | Harmonize the scale of all data\n",
    "scale = sclr()\n",
    "x_train_scl = x_train.copy() # copy dummy df to leave it intact after scaling\n",
    "x_test_scl = x_test.copy()\n",
    "\n",
    "x_train_scl[['Age','SibSp','Parch','Fare_norm']]=scale.fit_transform(x_train_scl[['Age','SibSp','Parch','Fare_norm']])\n",
    "x_test_scl[['Age','SibSp','Parch','Fare_norm']]=scale.fit_transform(x_test_scl[['Age','SibSp','Parch','Fare_norm']])"
   ]
  },
  {
   "cell_type": "code",
   "execution_count": null,
   "metadata": {},
   "outputs": [],
   "source": [
    "4. Data Exploration | Analyze, identify patterns, and explore the data."
   ]
  },
  {
   "cell_type": "code",
   "execution_count": null,
   "metadata": {},
   "outputs": [],
   "source": [
    "#check the central tendency and dispersion of our numeric features\n",
    "train.describe()\n",
    "\n",
    "#Some columns are not relavant; PassengerId, set_type\n",
    "\n",
    "#Survived: over 60% of passengers did not survive\n",
    "#Pclass: Over 75% of the passengers were in the lower classes (2 and 3)\n",
    "#Age: the average passenger was 29, but with a 14 year std this could mean more older or more younger people were present \n",
    "# -looking at percentiles, we better see 50% of passengers were under 28, 25% between 28 and 38, and 25% older than 38\n",
    "#SibSp: 50% of passengers had no sibling or spouse, 25% had 1, and 25% had 1 or more\n",
    "#parch: 75% of passengers did not travel with a parent or child. Does not include nannies traveling with children\n",
    "#Fare: average fare was $32, while 75% of passengers paid less than $32. This is possibly high skew from large fares like $512. "
   ]
  },
  {
   "cell_type": "code",
   "execution_count": null,
   "metadata": {},
   "outputs": [],
   "source": [
    "#Exploring Continuous Variables"
   ]
  },
  {
   "cell_type": "code",
   "execution_count": null,
   "metadata": {},
   "outputs": [],
   "source": [
    "#1st by Histograms\n",
    "\n",
    "#Here we check out the frequency of continuous and numeric variables"
   ]
  },
  {
   "cell_type": "code",
   "execution_count": 89,
   "metadata": {},
   "outputs": [
    {
     "data": {
      "image/png": "[encoded data removed]",
      "text/plain": [
       "<Figure size 432x288 with 1 Axes>"
      ]
     },
     "metadata": {
      "needs_background": "light"
     },
     "output_type": "display_data"
    },
    {
     "data": {
      "image/png": "[encoded data removed]",
      "text/plain": [
       "<Figure size 432x288 with 1 Axes>"
      ]
     },
     "metadata": {
      "needs_background": "light"
     },
     "output_type": "display_data"
    },
    {
     "data": {
      "image/png": "[encoded data removed]",
      "text/plain": [
       "<Figure size 432x288 with 1 Axes>"
      ]
     },
     "metadata": {
      "needs_background": "light"
     },
     "output_type": "display_data"
    },
    {
     "data": {
      "image/png": "[encoded data removed]",
      "text/plain": [
       "<Figure size 432x288 with 1 Axes>"
      ]
     },
     "metadata": {
      "needs_background": "light"
     },
     "output_type": "display_data"
    }
   ],
   "source": [
    "hist_col = ['Age','SibSp','Parch','Fare'] \n",
    "\n",
    "for e in hist_col:\n",
    "    train[e].hist()\n",
    "    plt.title('Graph: %s' % e) \n",
    "    plt.show()"
   ]
  },
  {
   "cell_type": "code",
   "execution_count": null,
   "metadata": {},
   "outputs": [],
   "source": [
    "#Bar Plot Review\n",
    "\n",
    "#Age - more normally distributed with most between 16 and 38 | we need to select appropriate bin (current = 5)\n",
    "#SibSp - vast majority have 0 or 1 | small range, likely not need to normalize\n",
    "#Parch - vast majority have 0 or 1 | small range, likely not need to normalize\n",
    "#Fare - vast majority paid less than $100 | need to normalize"
   ]
  },
  {
   "cell_type": "code",
   "execution_count": null,
   "metadata": {},
   "outputs": [],
   "source": [
    "train.Age.value_counts(bins=5)"
   ]
  },
  {
   "cell_type": "code",
   "execution_count": null,
   "metadata": {},
   "outputs": [],
   "source": [
    "#2nd by Box Plot\n",
    "\n",
    "#Here we check out the numeric fields that have interesting percetiles values"
   ]
  },
  {
   "cell_type": "code",
   "execution_count": null,
   "metadata": {},
   "outputs": [],
   "source": [
    "box_col =['Pclass', 'Age','SibSp', 'Fare']\n",
    "for e in box_col:\n",
    "    train.boxplot(column = e)\n",
    "    plt.title('Graph: %s' % e)\n",
    "    plt.show()"
   ]
  },
  {
   "cell_type": "code",
   "execution_count": null,
   "metadata": {},
   "outputs": [],
   "source": [
    "#Boxplot Review\n",
    "\n",
    "#Pclass - Most dispersion in class 2 and 3\n",
    "#Age - dispersion is so low in age that passengers over 65 are outliers\n",
    "#SibSp - 5 to 8 Siblings/Spouses are considered outliers\n",
    "#Fare - Vast majority of fares are less than $50\n",
    "\n",
    "train[train['Fare'] >= 270] #Only 3 passengers paid tickets over $270. Outliers\n",
    "train[train['SibSp'] >= 5] #Only two familes appear to have 5 or more siblings/spouses. And none of them survived. Tragic."
   ]
  },
  {
   "cell_type": "code",
   "execution_count": null,
   "metadata": {},
   "outputs": [],
   "source": [
    "3rd by Correlation Matrix"
   ]
  },
  {
   "cell_type": "code",
   "execution_count": null,
   "metadata": {},
   "outputs": [],
   "source": [
    "corr = train.drop('set_type', axis=1).corr()\n",
    "corr"
   ]
  },
  {
   "cell_type": "code",
   "execution_count": null,
   "metadata": {},
   "outputs": [],
   "source": [
    "# Generate a mask for the upper triangle\n",
    "mask = np.triu(np.ones_like(corr, dtype=np.bool))\n",
    "\n",
    "# Set up the matplotlib figure\n",
    "f, ax = plt.subplots(figsize=(11, 9))\n",
    "\n",
    "# Generate a custom diverging colormap\n",
    "cmap = sns.diverging_palette(220, 10, as_cmap=True)\n",
    "\n",
    "# Draw the heatmap with the mask and correct aspect ratio\n",
    "sns.heatmap(corr, mask=mask, cmap=cmap, vmax=.3, center=0,\n",
    "            square=True, linewidths=.5, cbar_kws={\"shrink\": .5})"
   ]
  },
  {
   "cell_type": "code",
   "execution_count": null,
   "metadata": {},
   "outputs": [],
   "source": [
    "#Correlation Review\n",
    "\n",
    "# Are target variable is 'Survived'\n",
    "#'Pclass' and 'Fare' have the highest correlation with 'Survied' at -33.8% and 25.7% respectively.\n",
    "# multicollineariy watch: \n",
    "# - 'Pclass' with 'Age' and 'Pclass' with 'Fare' (makes sense if higher class tickets have higher fare cost)\n",
    "# - 'SibSp' with 'Age' and SibSp with 'Parch' "
   ]
  },
  {
   "cell_type": "code",
   "execution_count": null,
   "metadata": {},
   "outputs": [],
   "source": [
    "#Exploring Categorical Variables"
   ]
  },
  {
   "cell_type": "code",
   "execution_count": null,
   "metadata": {},
   "outputs": [],
   "source": [
    "1st by Barplot"
   ]
  },
  {
   "cell_type": "code",
   "execution_count": null,
   "metadata": {},
   "outputs": [],
   "source": [
    "train.columns"
   ]
  },
  {
   "cell_type": "code",
   "execution_count": null,
   "metadata": {},
   "outputs": [],
   "source": [
    "#Plots with horizontal x labels\n",
    "bar_col1 = train[['Survived', 'Pclass', 'Sex', 'Embarked']] #add with title feature and ticket binning feature maybe cabin binning feature\n",
    "\n",
    "for e in bar_col1:\n",
    "    col_val = bar_col1[e].value_counts()\n",
    "    plt.title('Graph: %s | Total Groups: %d' % (e,len(col_val)))\n",
    "    plot = sns.barplot(x=col_val.index, y=col_val)\n",
    "    plot.set_xticklabels(plot.get_xticklabels())\n",
    "    plt.show()"
   ]
  },
  {
   "cell_type": "code",
   "execution_count": null,
   "metadata": {},
   "outputs": [],
   "source": [
    "#Plots with vertical x labels\n",
    "bar_col2 = train[['Name', 'Cabin']]\n",
    "\n",
    "for e in bar_col2:\n",
    "    col_val = bar_col2[e].value_counts()\n",
    "    plt.title('Graph: %s | Total Groups: %d' % (e,len(col_val)))\n",
    "    plot = sns.barplot(x=col_val.index, y=col_val)\n",
    "    plot.set_xticklabels(plot.get_xticklabels(), rotation=90)\n",
    "    plt.show()"
   ]
  },
  {
   "cell_type": "code",
   "execution_count": null,
   "metadata": {},
   "outputs": [],
   "source": [
    "#Barplot Review\n",
    "\n",
    "#Survived - majority did not survive | binary \n",
    "#Pclass - majority of passengers 3rd, then sharp drop to 1st, followed closely by 2nd"
   ]
  },
  {
   "cell_type": "code",
   "execution_count": null,
   "metadata": {},
   "outputs": [],
   "source": [
    "#Explore variable relationships with passenger survival by Pivot Table\n",
    "train.columns"
   ]
  },
  {
   "cell_type": "code",
   "execution_count": null,
   "metadata": {},
   "outputs": [],
   "source": [
    "pivot_col = ['Pclass', 'Sex', 'SibSp', 'Parch', 'Ticket', 'Fare', 'Cabin', 'Embarked']\n",
    "for e in pivot_col:\n",
    "    ptab=pd.pivot_table(train, index = e, values='Survived')\n",
    "    print(ptab)"
   ]
  },
  {
   "cell_type": "code",
   "execution_count": null,
   "metadata": {},
   "outputs": [],
   "source": [
    "#Pivot Review\n",
    "\n",
    "# Survival by\n",
    "# Class: 60% of 1st class survived, just of 50% of 2nd class, and only just over 20% of 3rd class. Note: The majority of passengers were in 3rd class. Tragic.\n",
    "# Sex: Over74% of females survived while only 18.9% of males survived.\n",
    "# SibSp: Passengers with 1 Sibling/Spouse had the highest proportion og survival. Passengers who had more 5 or more Sib/Sp did not survive\n",
    "# Parch: Passengers with 3 Parents or Children had the highest proportion of survival\n",
    "# Fare: Passengers who paid higher Fare's had a higher proporiton of surival\n",
    "# Embarked: Over 55% of passgeners who embarked from Cherbourg survived."
   ]
  },
  {
   "cell_type": "code",
   "execution_count": null,
   "metadata": {},
   "outputs": [],
   "source": [
    "#Let's compare the average values for our continuous variables along Survivorship\n",
    "pd.pivot_table(train, index='Survived', values=['Pclass', 'SibSp', 'Parch', 'Fare'])"
   ]
  },
  {
   "cell_type": "code",
   "execution_count": null,
   "metadata": {},
   "outputs": [],
   "source": [
    "train.columns"
   ]
  },
  {
   "cell_type": "code",
   "execution_count": null,
   "metadata": {},
   "outputs": [],
   "source": [
    "#Let's use pivots to drill-down and count the number of survivors by interesting subcategories\n",
    "piv_col1 = ['Pclass', 'SibSp', 'Sex', 'Parch', 'Cabin', 'Embarked']\n",
    "for e in piv_col1:\n",
    "    dd_pivot = pd.pivot_table(train, index='Survived', columns=e, values='PassengerId', aggfunc='count')\n",
    "    print(dd_pivot)\n",
    "    print('\\n')\n"
   ]
  },
  {
   "cell_type": "code",
   "execution_count": null,
   "metadata": {},
   "outputs": [],
   "source": [
    "pd.pivot_table(train, index='Survived', columns='Sex', values='Parch', aggfunc='count')"
   ]
  },
  {
   "cell_type": "code",
   "execution_count": null,
   "metadata": {},
   "outputs": [],
   "source": [
    "5. Data Model Building | Model, predict and solve the problem."
   ]
  },
  {
   "cell_type": "code",
   "execution_count": null,
   "metadata": {},
   "outputs": [],
   "source": [
    "#1st Iteration: Build of Plausible Default Models"
   ]
  },
  {
   "cell_type": "code",
   "execution_count": 9,
   "metadata": {},
   "outputs": [
    {
     "ename": "SyntaxError",
     "evalue": "invalid syntax (<ipython-input-9-f12120fe42d2>, line 1)",
     "output_type": "error",
     "traceback": [
      "\u001b[1;36m  File \u001b[1;32m\"<ipython-input-9-f12120fe42d2>\"\u001b[1;36m, line \u001b[1;32m1\u001b[0m\n\u001b[1;33m    Results: Format is (Scaled Score | Unscaled Score)\u001b[0m\n\u001b[1;37m                                   ^\u001b[0m\n\u001b[1;31mSyntaxError\u001b[0m\u001b[1;31m:\u001b[0m invalid syntax\n"
     ]
    }
   ],
   "source": [
    "Results: Format is (Scaled Score | Unscaled Score)\n",
    "\n",
    "Should Scale\n",
    "- Logistic Regression (82.6% | 82.5%)\n",
    "- K-Nearest Neighbors (82.5% | 81.1%)\n",
    "- Support Vector Classifier (83.1% | 82.2%)\n",
    "- Soft Vote Classifier (83.7% | 84.03%)\n",
    "- Hard Vote Classifier (84.1% | 83.6%)  #Best Ensembler\n",
    "\n",
    "Should not Scale\n",
    "- Naive Bayes (72.1% | 73.8%)\n",
    "- Classification Tree (78.6% | 78.6%)\n",
    "- Random Forest (81.2% | 81.3%)\n",
    "- AdaBoost Classifier (82.0% | 82.0%)\n",
    "- Gradient Descent Classifier (82.7% | 82.7%)     \n",
    "- XGBoost Classifier (82.9% | 82.9%)              "
   ]
  },
  {
   "cell_type": "code",
   "execution_count": null,
   "metadata": {},
   "outputs": [],
   "source": [
    "#Run baseline models | Model 1\n",
    "\n",
    "#Gaussian Naive Bayes \n",
    "start_time = time.time()\n",
    "\n",
    "#Gaussian Naive Bayes is generally used as a good baseline model for classification problems with continuous variables\n",
    "nb = gnb()\n",
    "score_nb = cv_score(nb,x_train_scl,y_train,cv=10)\n",
    "\n",
    "run_time = (time.time() - start_time)\n",
    "\n",
    "print(score_nb.round(2)*100) #print 5 cross validation scores\n",
    "print(\"Naive Bayes Accuracy: %s\" % round(score_nb.mean()*100,2)) #print the average score\n",
    "print(\"Run time: %s\" % datetime.timedelta(seconds=run_time))\n"
   ]
  },
  {
   "cell_type": "code",
   "execution_count": null,
   "metadata": {},
   "outputs": [],
   "source": [
    "#Re-Run baseline models | Model 1\n",
    "\n",
    "#We re-run our model on the unscaled training set to compare performance\n",
    "start_time = time.time()\n",
    "\n",
    "nb = gnb()\n",
    "score_nb_unscl = cv_score(nb,x_train,y_train,cv=10)\n",
    "\n",
    "run_time = (time.time() - start_time)\n",
    "\n",
    "print(score_nb_unscl.round(2)*100) #print 5 cross validation scores\n",
    "print(\"Unscaled Naive Bayes Accuracy: %s\" % round(score_nb_unscl.mean()*100,2)) #print the average score\n",
    "print(\"Run time: %s\" % datetime.timedelta(seconds=run_time))\n",
    "\n",
    "#The unscaled training set accuracy outperforms the scaled set | 73.79 > 72.11"
   ]
  },
  {
   "cell_type": "code",
   "execution_count": null,
   "metadata": {},
   "outputs": [],
   "source": [
    "#Run baseline models | Model 2\n",
    "\n",
    "#Decision ('Classification') Tree\n",
    "\n",
    "start_time = time.time()\n",
    "\n",
    "#As we will incorporate more robust tree based models, this standard tree serves as a baseline model\n",
    "dt = tree.DecisionTreeClassifier(random_state=0)\n",
    "score_dt = cv_score(dt, x_train_scl, y_train,cv=10)\n",
    "\n",
    "run_time = (time.time() - start_time)\n",
    "\n",
    "print(score_dt.round(2)*100) #print 10 cross validation scores\n",
    "print(\"Classification Tree Accuracy: %s\" % round(score_dt.mean()*100,2)) #print the average score\n",
    "print(\"Run time: %s\" % datetime.timedelta(seconds=run_time))"
   ]
  },
  {
   "cell_type": "code",
   "execution_count": 10,
   "metadata": {},
   "outputs": [
    {
     "name": "stdout",
     "output_type": "stream",
     "text": [
      "[75. 84. 72. 81. 83. 82. 78. 75. 84. 80.]\n",
      "Classification Tree Accuracy: 79.42\n",
      "Run time: 0:00:00.110578\n"
     ]
    }
   ],
   "source": [
    "#Re-run baseline models | Model 2\n",
    "\n",
    "#We run the Decision ('Classification') Tree on the unscaled training set\n",
    "\n",
    "start_time = time.time()\n",
    "\n",
    "dt = tree.DecisionTreeClassifier(random_state=0)\n",
    "score_dt_unscl = cv_score(dt, x_train, y_train,cv=10)\n",
    "\n",
    "run_time = (time.time() - start_time)\n",
    "\n",
    "print(score_dt_unscl.round(2)*100) \n",
    "print(\"Classification Tree Accuracy: %s\" % round(score_dt_unscl.mean()*100,2)) \n",
    "print(\"Run time: %s\" % datetime.timedelta(seconds=run_time))\n",
    "\n",
    "#The unscaled training set accuracy approximately matches the scaled set | 78.63 = 78.63, while the unscaled set has a faster run time"
   ]
  },
  {
   "cell_type": "code",
   "execution_count": 11,
   "metadata": {},
   "outputs": [],
   "source": [
    "#Repeat for remaining models with parameters set to default"
   ]
  },
  {
   "cell_type": "code",
   "execution_count": 12,
   "metadata": {},
   "outputs": [
    {
     "name": "stdout",
     "output_type": "stream",
     "text": [
      "[79. 83. 78. 88. 83. 78. 81. 83. 88. 86.]\n",
      "Logistic Regression Accuracy: 82.57\n",
      "Run time: 0:00:00.217937\n"
     ]
    }
   ],
   "source": [
    "#Logistic Regression\n",
    "\n",
    "start_time = time.time()\n",
    "\n",
    "lr = logr(solver='liblinear')\n",
    "score_lr = cv_score(lr, x_train_scl, y_train,cv=10)\n",
    "\n",
    "run_time = (time.time() - start_time)\n",
    "\n",
    "print(score_lr.round(2)*100) #Again, print 10 cross validation scores\n",
    "print(\"Logistic Regression Accuracy: %s\" % round(score_lr.mean()*100,2)) #Again, print the average score\n",
    "print(\"Run time: %s\" % datetime.timedelta(seconds=run_time))"
   ]
  },
  {
   "cell_type": "code",
   "execution_count": 13,
   "metadata": {},
   "outputs": [
    {
     "name": "stdout",
     "output_type": "stream",
     "text": [
      "[79. 83. 78. 87. 83. 78. 82. 82. 88. 86.]\n",
      "Logistic Regression Accuracy: 82.46\n",
      "Run time: 0:00:00.146354\n"
     ]
    }
   ],
   "source": [
    "#Logistic Regression (Unscaled)\n",
    "\n",
    "start_time = time.time()\n",
    "\n",
    "lr = logr(solver='liblinear')\n",
    "score_lr_unscl = cv_score(lr, x_train, y_train,cv=10)\n",
    "\n",
    "run_time = (time.time() - start_time)\n",
    "\n",
    "print(score_lr_unscl.round(2)*100) \n",
    "print(\"Logistic Regression Accuracy: %s\" % round(score_lr_unscl.mean()*100,2)) \n",
    "print(\"Run time: %s\" % datetime.timedelta(seconds=run_time))\n",
    "\n",
    "#The scaled training set accuracy outperforms the unscaled set | 82.57 > 82.46"
   ]
  },
  {
   "cell_type": "code",
   "execution_count": 14,
   "metadata": {},
   "outputs": [
    {
     "name": "stdout",
     "output_type": "stream",
     "text": [
      "[79. 89. 75. 83. 83. 85. 79. 75. 85. 84.]\n",
      "Random Forest Accuracy: 81.78\n",
      "Run time: 0:00:03.178028\n"
     ]
    }
   ],
   "source": [
    "#Random Forests\n",
    "\n",
    "start_time = time.time()\n",
    "\n",
    "rf = RandomForestClassifier(random_state=0, n_estimators=100)\n",
    "score_rf = cv_score(rf, x_train_scl, y_train,cv=10)\n",
    "\n",
    "run_time = (time.time() - start_time)\n",
    "\n",
    "print(score_rf.round(2)*100) \n",
    "print(\"Random Forest Accuracy: %s\" % round(score_rf.mean()*100,2)) \n",
    "print(\"Run time: %s\" % datetime.timedelta(seconds=run_time))"
   ]
  },
  {
   "cell_type": "code",
   "execution_count": 15,
   "metadata": {},
   "outputs": [
    {
     "name": "stdout",
     "output_type": "stream",
     "text": [
      "[76. 89. 75. 83. 84. 87. 79. 75. 87. 84.]\n",
      "Unscaled Random Forest Accuracy: 81.89\n",
      "Run time: 0:00:02.921652\n"
     ]
    }
   ],
   "source": [
    "#Random Forests (Unscaled)\n",
    "\n",
    "start_time = time.time()\n",
    "\n",
    "rf = RandomForestClassifier(random_state=0, n_estimators=100)\n",
    "score_rf_unscl = cv_score(rf, x_train, y_train,cv=10)\n",
    "\n",
    "run_time = (time.time() - start_time)\n",
    "\n",
    "print(score_rf_unscl.round(2)*100) \n",
    "print(\"Unscaled Random Forest Accuracy: %s\" % round(score_rf_unscl.mean()*100,2)) \n",
    "print(\"Run time: %s\" % datetime.timedelta(seconds=run_time))\n",
    "\n",
    "#The unscaled training set accuracy outperforms the scaled set | 81.33 > 81.22"
   ]
  },
  {
   "cell_type": "code",
   "execution_count": 16,
   "metadata": {},
   "outputs": [
    {
     "name": "stdout",
     "output_type": "stream",
     "text": [
      "[79. 85. 75. 85. 84. 82. 84. 78. 89. 83.]\n",
      "K-Nearest Neighbor Accuracy: 82.45\n",
      "Run time: 0:00:00.192362\n"
     ]
    }
   ],
   "source": [
    "#K-Nearest Neighbors \n",
    "\n",
    "start_time = time.time()\n",
    "\n",
    "kn = KNeighborsClassifier(n_neighbors=5)\n",
    "score_knn = cv_score(kn, x_train_scl, y_train,cv=10)\n",
    "\n",
    "run_time = (time.time() - start_time)\n",
    "\n",
    "print(score_knn.round(2)*100) \n",
    "print(\"K-Nearest Neighbor Accuracy: %s\" % round(score_knn.mean()*100,2)) \n",
    "print(\"Run time: %s\" % datetime.timedelta(seconds=run_time))"
   ]
  },
  {
   "cell_type": "code",
   "execution_count": 17,
   "metadata": {},
   "outputs": [
    {
     "name": "stdout",
     "output_type": "stream",
     "text": [
      "[71. 81. 79. 84. 84. 75. 84. 80. 88. 85.]\n",
      "Unscaled K-Nearest Neighbor Accuracy: 81.11\n",
      "Run time: 0:00:00.217424\n"
     ]
    }
   ],
   "source": [
    "#K-Nearest Neighbors (Unscaled)\n",
    "\n",
    "start_time = time.time()\n",
    "\n",
    "kn = KNeighborsClassifier(n_neighbors=5)\n",
    "score_knn_unscl = cv_score(kn, x_train, y_train,cv=10)\n",
    "\n",
    "run_time = (time.time() - start_time)\n",
    "\n",
    "print(score_knn_unscl.round(2)*100) \n",
    "print(\"Unscaled K-Nearest Neighbor Accuracy: %s\" % round(score_knn_unscl.mean()*100,2)) \n",
    "print(\"Run time: %s\" % datetime.timedelta(seconds=run_time))\n",
    "\n",
    "#The scaled training set accuracy outperforms the unscaled set | 82.45 > 81.11"
   ]
  },
  {
   "cell_type": "code",
   "execution_count": 18,
   "metadata": {},
   "outputs": [
    {
     "name": "stdout",
     "output_type": "stream",
     "text": [
      "[83. 87. 78. 88. 83. 81. 81. 79. 88. 85.]\n",
      "Support Vector Accuracy: 83.13\n",
      "Run time: 0:00:02.386233\n"
     ]
    }
   ],
   "source": [
    "#Support Vector Classification\n",
    "\n",
    "start_time = time.time()\n",
    "\n",
    "svc = SVC(gamma='auto',probability=True)\n",
    "score_svc = cv_score(svc, x_train_scl, y_train,cv=10)\n",
    "\n",
    "run_time = (time.time() - start_time)\n",
    "\n",
    "print(score_svc.round(2)*100) \n",
    "print(\"Support Vector Accuracy: %s\" % round(score_svc.mean()*100,2)) \n",
    "print(\"Run time: %s\" % datetime.timedelta(seconds=run_time))"
   ]
  },
  {
   "cell_type": "code",
   "execution_count": 19,
   "metadata": {},
   "outputs": [
    {
     "name": "stdout",
     "output_type": "stream",
     "text": [
      "[80. 88. 75. 89. 83. 75. 81. 80. 87. 85.]\n",
      "Unscaled Support Vector Accuracy: 82.23\n",
      "Run time: 0:00:02.979650\n"
     ]
    }
   ],
   "source": [
    "#Support Vector Classification (Unscaled)\n",
    "\n",
    "start_time = time.time()\n",
    "\n",
    "svc = SVC(gamma='auto',probability=True)\n",
    "score_svc_unscl = cv_score(svc, x_train, y_train,cv=10)\n",
    "\n",
    "run_time = (time.time() - start_time)\n",
    "\n",
    "print(score_svc_unscl.round(2)*100) \n",
    "print(\"Unscaled Support Vector Accuracy: %s\" % round(score_svc_unscl.mean()*100,2)) \n",
    "print(\"Run time: %s\" % datetime.timedelta(seconds=run_time))\n",
    "\n",
    "#The scaled training set accuracy outperforms the unscaled set | 83.13 > 82.23"
   ]
  },
  {
   "cell_type": "code",
   "execution_count": 20,
   "metadata": {},
   "outputs": [
    {
     "name": "stdout",
     "output_type": "stream",
     "text": [
      "[78. 82. 79. 82. 83. 80. 85. 84. 84. 83.]\n",
      "AdaBoost Accuracy: 82.0\n",
      "Run time: 0:00:01.704297\n"
     ]
    }
   ],
   "source": [
    "#AdaBoost Classifier\n",
    "\n",
    "start_time = time.time()\n",
    "\n",
    "ada = AdaBoostClassifier()\n",
    "score_ada = cv_score(ada, x_train_scl, y_train,cv=10)\n",
    "\n",
    "run_time = (time.time() - start_time)\n",
    "\n",
    "print(score_ada.round(2)*100) \n",
    "print(\"AdaBoost Accuracy: %s\" % round(score_ada.mean()*100,2)) \n",
    "print(\"Run time: %s\" % datetime.timedelta(seconds=run_time))"
   ]
  },
  {
   "cell_type": "code",
   "execution_count": 21,
   "metadata": {},
   "outputs": [
    {
     "name": "stdout",
     "output_type": "stream",
     "text": [
      "[78. 82. 79. 82. 83. 80. 85. 84. 84. 83.]\n",
      "Unscaled AdaBoost Accuracy: 82.0\n",
      "Run time: 0:00:01.744650\n"
     ]
    }
   ],
   "source": [
    "#AdaBoost Classifier (Unscaled)\n",
    "\n",
    "start_time = time.time()\n",
    "\n",
    "ada = AdaBoostClassifier()\n",
    "score_ada_unscl = cv_score(ada, x_train, y_train,cv=10)\n",
    "\n",
    "run_time = (time.time() - start_time)\n",
    "\n",
    "print(score_ada_unscl.round(2)*100) \n",
    "print(\"Unscaled AdaBoost Accuracy: %s\" % round(score_ada_unscl.mean()*100,2))\n",
    "print(\"Run time: %s\" % datetime.timedelta(seconds=run_time))\n",
    "\n",
    "#The scaled training set accuracy matches the unscaled set | 82.0 = 82.0, while the unscaled set runs faster"
   ]
  },
  {
   "cell_type": "code",
   "execution_count": 22,
   "metadata": {},
   "outputs": [
    {
     "name": "stdout",
     "output_type": "stream",
     "text": [
      "[78. 84. 74. 84. 88. 84. 81. 80. 91. 84.]\n",
      "Gradient Boost Accuracy: 82.79\n",
      "Run time: 0:00:02.641392\n"
     ]
    }
   ],
   "source": [
    "#Gradient Boost Classifier\n",
    "\n",
    "start_time = time.time()\n",
    "\n",
    "gb = GradientBoostingClassifier(random_state=0)\n",
    "score_gb = cv_score(gb, x_train_scl, y_train,cv=10)\n",
    "\n",
    "run_time = (time.time() - start_time)\n",
    "\n",
    "print(score_gb.round(2)*100) \n",
    "print(\"Gradient Boost Accuracy: %s\" % round(score_gb.mean()*100,2)) \n",
    "print(\"Run time: %s\" % datetime.timedelta(seconds=run_time))"
   ]
  },
  {
   "cell_type": "code",
   "execution_count": 23,
   "metadata": {},
   "outputs": [
    {
     "name": "stdout",
     "output_type": "stream",
     "text": [
      "[78. 84. 74. 84. 88. 84. 81. 80. 91. 84.]\n",
      "Unscaled Gradient Boost Accuracy: 82.79\n",
      "Run time: 0:00:02.551288\n"
     ]
    }
   ],
   "source": [
    "#Gradient Boost Classifier (Unscaled)\n",
    "\n",
    "start_time = time.time()\n",
    "\n",
    "gb = GradientBoostingClassifier(random_state=0)\n",
    "score_gb_unscl = cv_score(gb, x_train, y_train,cv=10)\n",
    "\n",
    "run_time = (time.time() - start_time)\n",
    "\n",
    "print(score_gb_unscl.round(2)*100) \n",
    "print(\"Unscaled Gradient Boost Accuracy: %s\" % round(score_gb_unscl.mean()*100,2)) \n",
    "print(\"Run time: %s\" % datetime.timedelta(seconds=run_time))\n",
    "\n",
    "#The scaled training set accuracy matches unscaled set | 82.68 = 82.68, and is slightly faster"
   ]
  },
  {
   "cell_type": "code",
   "execution_count": 24,
   "metadata": {},
   "outputs": [
    {
     "name": "stdout",
     "output_type": "stream",
     "text": [
      "[75. 82. 75. 87. 88. 84. 83. 82. 90. 83.]\n",
      "XGBoost Accuracy: 82.9\n",
      "Run time: 0:00:03.151450\n"
     ]
    }
   ],
   "source": [
    "#XGBoost Classifier\n",
    "\n",
    "start_time = time.time()\n",
    "\n",
    "xgb = XGBClassifier(random_state=0)\n",
    "score_xgb = cv_score(xgb, x_train_scl, y_train,cv=10)\n",
    "\n",
    "run_time = (time.time() - start_time)\n",
    "\n",
    "print(score_xgb.round(2)*100) \n",
    "print(\"XGBoost Accuracy: %s\" % round(score_xgb.mean()*100,2)) \n",
    "print(\"Run time: %s\" % datetime.timedelta(seconds=run_time))"
   ]
  },
  {
   "cell_type": "code",
   "execution_count": 25,
   "metadata": {},
   "outputs": [
    {
     "name": "stdout",
     "output_type": "stream",
     "text": [
      "[75. 82. 75. 87. 88. 84. 83. 82. 90. 83.]\n",
      "Unscaled XGBoost Accuracy: 82.9\n",
      "Run time: 0:00:02.515411\n"
     ]
    }
   ],
   "source": [
    "#XGBoost Classifier (Unscaled)\n",
    "\n",
    "start_time = time.time()\n",
    "\n",
    "xgb = XGBClassifier(random_state=0)\n",
    "score_xgb_unscl = cv_score(xgb, x_train, y_train,cv=10)\n",
    "\n",
    "run_time = (time.time() - start_time)\n",
    "\n",
    "print(score_xgb_unscl.round(2)*100) \n",
    "print(\"Unscaled XGBoost Accuracy: %s\" % round(score_xgb_unscl.mean()*100,2)) \n",
    "print(\"Run time: %s\" % datetime.timedelta(seconds=run_time))\n",
    "\n",
    "#The unscaled training set accuracy matches the scaled set | 82.9 = 82.9, while running a little faster"
   ]
  },
  {
   "cell_type": "code",
   "execution_count": 26,
   "metadata": {},
   "outputs": [
    {
     "name": "stdout",
     "output_type": "stream",
     "text": [
      "[82. 88. 74. 89. 85. 84. 83. 76. 90. 83.]\n",
      "Voting Classifier Accuracy: 83.46\n",
      "Run time: 0:00:13.112994\n"
     ]
    }
   ],
   "source": [
    "#Soft Voting Classifier\n",
    "\n",
    "start_time = time.time()\n",
    "\n",
    "soft_vote = VotingClassifier(estimators=[('xgb',xgb), ('gb',gb), ('ada',ada), ('rf',rf),('svc',svc), ('kn',kn), ('lr',lr)], voting='soft')\n",
    "score_vote = cv_score(soft_vote, x_train_scl, y_train,cv=10)\n",
    "\n",
    "run_time = (time.time() - start_time)\n",
    "\n",
    "print(score_vote.round(2)*100) \n",
    "print(\"Voting Classifier Accuracy: %s\" % round(score_vote.mean()*100,2)) \n",
    "print(\"Run time: %s\" % datetime.timedelta(seconds=run_time))"
   ]
  },
  {
   "cell_type": "code",
   "execution_count": 27,
   "metadata": {},
   "outputs": [
    {
     "name": "stdout",
     "output_type": "stream",
     "text": [
      "[82. 88. 75. 88. 85. 82. 84. 79. 91. 84.]\n",
      "Unscaled Voting Classifier Accuracy: 83.8\n",
      "Run time: 0:00:14.568816\n"
     ]
    }
   ],
   "source": [
    "#Soft Voting Classifier (Unscaled)\n",
    "\n",
    "start_time = time.time()\n",
    "\n",
    "soft_vote = VotingClassifier(estimators=[('xgb',xgb), ('gb',gb), ('ada',ada), ('rf',rf),('svc',svc), ('kn',kn), ('lr',lr)], voting='soft')\n",
    "score_vote_unscl = cv_score(soft_vote, x_train, y_train,cv=10)\n",
    "\n",
    "run_time = (time.time() - start_time)\n",
    "\n",
    "print(score_vote_unscl.round(2)*100) \n",
    "print(\"Unscaled Voting Classifier Accuracy: %s\" % round(score_vote_unscl.mean()*100,2)) \n",
    "print(\"Run time: %s\" % datetime.timedelta(seconds=run_time))\n",
    "\n",
    "#The unscaled training set accuracy outperforms the scaled set | 84.03 > 83.69"
   ]
  },
  {
   "cell_type": "code",
   "execution_count": 28,
   "metadata": {},
   "outputs": [
    {
     "name": "stdout",
     "output_type": "stream",
     "text": [
      "[82. 87. 75. 89. 87. 84. 83. 81. 90. 85.]\n",
      "Voting Classifier Accuracy: 84.25\n",
      "Run time: 0:00:13.416171\n"
     ]
    }
   ],
   "source": [
    "#Hard Voting Classifier\n",
    "\n",
    "start_time = time.time()\n",
    "\n",
    "hard_vote = VotingClassifier(estimators=[('xgb',xgb), ('gb',gb), ('ada',ada), ('rf',rf),('svc',svc), ('kn',kn), ('lr',lr)], voting='hard')\n",
    "score_vote = cv_score(hard_vote, x_train_scl, y_train,cv=10)\n",
    "\n",
    "run_time = (time.time() - start_time)\n",
    "\n",
    "print(score_vote.round(2)*100) \n",
    "print(\"Voting Classifier Accuracy: %s\" % round(score_vote.mean()*100,2)) \n",
    "print(\"Run time: %s\" % datetime.timedelta(seconds=run_time))"
   ]
  },
  {
   "cell_type": "code",
   "execution_count": 29,
   "metadata": {},
   "outputs": [
    {
     "name": "stdout",
     "output_type": "stream",
     "text": [
      "[81. 85. 76. 88. 85. 81. 84. 81. 90. 83.]\n",
      "Voting Classifier Accuracy: 83.46\n",
      "Run time: 0:00:14.235124\n"
     ]
    }
   ],
   "source": [
    "#Hard Voting Classifier (Unscaled)\n",
    "\n",
    "start_time = time.time()\n",
    "\n",
    "hard_vote = VotingClassifier(estimators=[('xgb',xgb), ('gb',gb), ('ada',ada), ('rf',rf),('svc',svc), ('kn',kn), ('lr',lr)], voting='hard')\n",
    "score_vote_unscl = cv_score(hard_vote, x_train, y_train,cv=10)\n",
    "\n",
    "run_time = (time.time() - start_time)\n",
    "\n",
    "print(score_vote_unscl.round(2)*100) \n",
    "print(\"Voting Classifier Accuracy: %s\" % round(score_vote_unscl.mean()*100,2)) \n",
    "print(\"Run time: %s\" % datetime.timedelta(seconds=run_time))"
   ]
  },
  {
   "cell_type": "code",
   "execution_count": null,
   "metadata": {},
   "outputs": [],
   "source": [
    "#Create baseline submission using best ensemble | Hard Voting Classifier\n",
    "hard_vote.fit( x_train_scl, y_train)\n",
    "y_pred_hardvote = hard_vote.predict(x_test_scl)\n",
    "submission_hardvote = {'PassengerID': test.PassengerId, 'Survived': y_pred_hardvote}\n",
    "submission_hv = pd.DataFrame(data=submission_hardvote)\n",
    "submission_hv.to_csv('baseline_submission.csv', index=False)"
   ]
  },
  {
   "cell_type": "code",
   "execution_count": null,
   "metadata": {},
   "outputs": [],
   "source": [
    "#2nd Iteration: Tune Parameters and Reubild Models"
   ]
  },
  {
   "cell_type": "code",
   "execution_count": 11,
   "metadata": {},
   "outputs": [],
   "source": [
    "#let's define a function to report the best parameters to tune for each model and resulting score\n",
    "def tune_report(mod, name):\n",
    "    print(name)\n",
    "    print('Best Score: %s' % str(round(mod.best_score_,3)*100)+'%')\n",
    "    print('Best Parameters: %s' % str(mod.best_params_))"
   ]
  },
  {
   "cell_type": "code",
   "execution_count": 46,
   "metadata": {},
   "outputs": [
    {
     "name": "stdout",
     "output_type": "stream",
     "text": [
      "Fitting 5 folds for each of 150 candidates, totalling 750 fits\n"
     ]
    },
    {
     "name": "stderr",
     "output_type": "stream",
     "text": [
      "[Parallel(n_jobs=1)]: Using backend SequentialBackend with 1 concurrent workers.\n"
     ]
    },
    {
     "name": "stdout",
     "output_type": "stream",
     "text": [
      "Logistic Regression\n",
      "Best Score: 82.0%\n",
      "Best Parameters: {'C': 1.0, 'max_iter': 100, 'penalty': 'l2'}\n"
     ]
    },
    {
     "name": "stderr",
     "output_type": "stream",
     "text": [
      "[Parallel(n_jobs=1)]: Done 750 out of 750 | elapsed:   10.5s finished\n"
     ]
    }
   ],
   "source": [
    "#We'll skip the baseline models and jump right into our higher scoring and more robust models\n",
    "#Logistic Regression | Exhaustive Search\n",
    "\n",
    "lr = logr(solver='liblinear')\n",
    "param_grid = {'max_iter': [100,500,200],\n",
    "             'penalty': ['l1','l2'],\n",
    "             'C': np.logspace(-5,5,num=25)} #try 25 values between x^-5 and x^5\n",
    "search_lr = GridSearchCV(lr, param_grid=param_grid, cv=5, verbose=True, n_jobs = 1)\n",
    "tuned_lr = search_lr.fit(x_train_scl,y_train)\n",
    "tune_report(tuned_lr,'Logistic Regression')"
   ]
  },
  {
   "cell_type": "code",
   "execution_count": 62,
   "metadata": {},
   "outputs": [
    {
     "name": "stdout",
     "output_type": "stream",
     "text": [
      "Fitting 5 folds for each of 10 candidates, totalling 50 fits\n"
     ]
    },
    {
     "name": "stderr",
     "output_type": "stream",
     "text": [
      "[Parallel(n_jobs=1)]: Using backend SequentialBackend with 1 concurrent workers.\n"
     ]
    },
    {
     "name": "stdout",
     "output_type": "stream",
     "text": [
      "Random Forest\n",
      "Best Score: 82.89999999999999%\n",
      "Best Parameters: {'oob_score': False, 'n_estimators': 100, 'min_samples_split': 2, 'min_samples_leaf': 2, 'max_features': 'auto', 'max_depth': 9, 'bootstrap': True}\n"
     ]
    },
    {
     "name": "stderr",
     "output_type": "stream",
     "text": [
      "[Parallel(n_jobs=1)]: Done  50 out of  50 | elapsed:   16.8s finished\n"
     ]
    }
   ],
   "source": [
    "#Random Forest | Random Search  - run a few times to get an effiecient taste of local optimal parameters\n",
    "\n",
    "param_grid = {'n_estimators': [100,250,500],\n",
    "             'max_depth': [3,5,9,15,20,100,None],\n",
    "             'min_samples_split': [2, 5,10], \n",
    "             'min_samples_leaf': [1,2,5,7,10],\n",
    "             'max_features': ['auto', 'sqrt', 'log2'],\n",
    "             'bootstrap': [True],\n",
    "             'oob_score': [True, False]}\n",
    "rand_search_rf = RandomizedSearchCV(rf, param_distributions=param_grid, cv=5, verbose=True, n_jobs = 1)\n",
    "tuned_rf_rand = rand_search_rf.fit(x_train_scl,y_train)\n",
    "tune_report(tuned_rf_rand,'Random Forest')"
   ]
  },
  {
   "cell_type": "code",
   "execution_count": 28,
   "metadata": {},
   "outputs": [
    {
     "name": "stdout",
     "output_type": "stream",
     "text": [
      "Fitting 5 folds for each of 16 candidates, totalling 80 fits\n"
     ]
    },
    {
     "name": "stderr",
     "output_type": "stream",
     "text": [
      "[Parallel(n_jobs=1)]: Using backend SequentialBackend with 1 concurrent workers.\n",
      "[Parallel(n_jobs=1)]: Done  80 out of  80 | elapsed:   45.8s finished\n"
     ]
    },
    {
     "name": "stdout",
     "output_type": "stream",
     "text": [
      "Random Forest\n",
      "Best Score: 83.0%\n",
      "Best Parameters: {'bootstrap': True, 'max_depth': 20, 'max_features': 'auto', 'min_samples_leaf': 2, 'min_samples_split': 2, 'n_estimators': 500, 'oob_score': True}\n"
     ]
    }
   ],
   "source": [
    "#Random Forest | Focused Search - exhaustive search with parameter set adjusted from randomized results\n",
    "rf = RandomForestClassifier()\n",
    "param_grid = {'n_estimators': [500],\n",
    "             'max_depth': [9,20,50,None],\n",
    "             'min_samples_split': [2,3], \n",
    "             'min_samples_leaf': [1,2],\n",
    "             'max_features': ['auto'],\n",
    "             'bootstrap': [True],\n",
    "             'oob_score': [True]}\n",
    "search_rf = GridSearchCV(rf, param_grid=param_grid, cv=5, verbose=True, n_jobs = 1)\n",
    "tuned_rf = search_rf.fit(x_train_scl,y_train)\n",
    "tune_report(tuned_rf,'Random Forest')"
   ]
  },
  {
   "cell_type": "code",
   "execution_count": 37,
   "metadata": {},
   "outputs": [
    {
     "name": "stdout",
     "output_type": "stream",
     "text": [
      "Fitting 5 folds for each of 48 candidates, totalling 240 fits\n"
     ]
    },
    {
     "name": "stderr",
     "output_type": "stream",
     "text": [
      "[Parallel(n_jobs=1)]: Using backend SequentialBackend with 1 concurrent workers.\n"
     ]
    },
    {
     "name": "stdout",
     "output_type": "stream",
     "text": [
      "K Nearest Neighbors\n",
      "Best Score: 82.69999999999999%\n",
      "Best Parameters: {'algorithm': 'ball_tree', 'n_neighbors': 7, 'p': 2, 'weights': 'uniform'}\n"
     ]
    },
    {
     "name": "stderr",
     "output_type": "stream",
     "text": [
      "[Parallel(n_jobs=1)]: Done 240 out of 240 | elapsed:    2.7s finished\n"
     ]
    }
   ],
   "source": [
    "#K Nearest Neighbors | Exhaustive Search\n",
    "\n",
    "kn = KNeighborsClassifier()\n",
    "param_grid = {'n_neighbors': [3,5,7,9],\n",
    "             'algorithm': ['ball_tree', 'kd_tree', 'brute'],\n",
    "             'weights': ['uniform', 'distance'],\n",
    "             'p': [1,2]}\n",
    "search_kn = GridSearchCV(kn, param_grid=param_grid, cv=5, verbose=True, n_jobs = 1)\n",
    "tuned_kn = search_kn.fit(x_train_scl,y_train)\n",
    "tune_report(tuned_kn,'K Nearest Neighbors')"
   ]
  },
  {
   "cell_type": "code",
   "execution_count": 45,
   "metadata": {},
   "outputs": [
    {
     "name": "stdout",
     "output_type": "stream",
     "text": [
      "Fitting 5 folds for each of 1 candidates, totalling 5 fits\n"
     ]
    },
    {
     "name": "stderr",
     "output_type": "stream",
     "text": [
      "[Parallel(n_jobs=1)]: Using backend SequentialBackend with 1 concurrent workers.\n"
     ]
    },
    {
     "name": "stdout",
     "output_type": "stream",
     "text": [
      "Support Vector Classifier\n",
      "Best Score: 82.1%\n",
      "Best Parameters: {'gamma': 'auto', 'kernel': 'rbf', 'probability': True}\n"
     ]
    },
    {
     "name": "stderr",
     "output_type": "stream",
     "text": [
      "[Parallel(n_jobs=1)]: Done   5 out of   5 | elapsed:    0.5s finished\n"
     ]
    }
   ],
   "source": [
    "#Support Vector Classifier | Exhaustive Search\n",
    "\n",
    "param_grid = {'kernel': ['linear','poly','rbf'],\n",
    "              'probability': [True],\n",
    "             'gamma': ['auto']}\n",
    "search_svc = GridSearchCV(svc, param_grid=param_grid, cv=5, verbose=True, n_jobs = 1)\n",
    "tuned_svc = search_svc.fit(x_train,y_train)\n",
    "tune_report(tuned_svc,'Support Vector Classifier')"
   ]
  },
  {
   "cell_type": "code",
   "execution_count": 19,
   "metadata": {
    "scrolled": false
   },
   "outputs": [
    {
     "name": "stdout",
     "output_type": "stream",
     "text": [
      "Fitting 5 folds for each of 3 candidates, totalling 15 fits\n"
     ]
    },
    {
     "name": "stderr",
     "output_type": "stream",
     "text": [
      "[Parallel(n_jobs=1)]: Using backend SequentialBackend with 1 concurrent workers.\n"
     ]
    },
    {
     "name": "stdout",
     "output_type": "stream",
     "text": [
      "AdaBoost Classifier\n",
      "Best Score: 81.89999999999999%\n",
      "Best Parameters: {'algorithm': 'SAMME.R', 'learning_rate': 0.5, 'n_estimators': 50, 'random_state': 0}\n"
     ]
    },
    {
     "name": "stderr",
     "output_type": "stream",
     "text": [
      "[Parallel(n_jobs=1)]: Done  15 out of  15 | elapsed:    1.0s finished\n"
     ]
    }
   ],
   "source": [
    "#AdaBoost Classifier | Exhaustive Search\n",
    "\n",
    "ada =AdaBoostClassifier()\n",
    "param_grid = {'n_estimators': [50],\n",
    "             'learning_rate': [0.2,0.5,1],\n",
    "             'algorithm': ['SAMME.R'],\n",
    "             'random_state': [0]}\n",
    "search_ada = GridSearchCV(ada, param_grid=param_grid, cv=5, verbose=True, n_jobs = 1)\n",
    "tuned_ada = search_ada.fit(x_train_scl,y_train)\n",
    "tune_report(tuned_ada,'AdaBoost Classifier')"
   ]
  },
  {
   "cell_type": "code",
   "execution_count": 23,
   "metadata": {},
   "outputs": [
    {
     "name": "stdout",
     "output_type": "stream",
     "text": [
      "Fitting 5 folds for each of 16 candidates, totalling 80 fits\n"
     ]
    },
    {
     "name": "stderr",
     "output_type": "stream",
     "text": [
      "[Parallel(n_jobs=1)]: Using backend SequentialBackend with 1 concurrent workers.\n"
     ]
    },
    {
     "name": "stdout",
     "output_type": "stream",
     "text": [
      "[16:13:36] WARNING: C:\\Users\\Administrator\\workspace\\xgboost-win64_release_1.1.0\\src\\learner.cc:480: \n",
      "Parameters: { gamma, max_depth } might not be used.\n",
      "\n",
      "  This may not be accurate due to some parameters are only used in language bindings but\n",
      "  passed down to XGBoost core.  Or some parameters are not used but slip through this\n",
      "  verification. Please open an issue if you find above cases.\n",
      "\n",
      "\n",
      "[16:13:36] WARNING: C:\\Users\\Administrator\\workspace\\xgboost-win64_release_1.1.0\\src\\learner.cc:480: \n",
      "Parameters: { gamma, max_depth } might not be used.\n",
      "\n",
      "  This may not be accurate due to some parameters are only used in language bindings but\n",
      "  passed down to XGBoost core.  Or some parameters are not used but slip through this\n",
      "  verification. Please open an issue if you find above cases.\n",
      "\n",
      "\n",
      "[16:13:36] WARNING: C:\\Users\\Administrator\\workspace\\xgboost-win64_release_1.1.0\\src\\learner.cc:480: \n",
      "Parameters: { gamma, max_depth } might not be used.\n",
      "\n",
      "  This may not be accurate due to some parameters are only used in language bindings but\n",
      "  passed down to XGBoost core.  Or some parameters are not used but slip through this\n",
      "  verification. Please open an issue if you find above cases.\n",
      "\n",
      "\n",
      "[16:13:36] WARNING: C:\\Users\\Administrator\\workspace\\xgboost-win64_release_1.1.0\\src\\learner.cc:480: \n",
      "Parameters: { gamma, max_depth } might not be used.\n",
      "\n",
      "  This may not be accurate due to some parameters are only used in language bindings but\n",
      "  passed down to XGBoost core.  Or some parameters are not used but slip through this\n",
      "  verification. Please open an issue if you find above cases.\n",
      "\n",
      "\n",
      "[16:13:36] WARNING: C:\\Users\\Administrator\\workspace\\xgboost-win64_release_1.1.0\\src\\learner.cc:480: \n",
      "Parameters: { gamma, max_depth } might not be used.\n",
      "\n",
      "  This may not be accurate due to some parameters are only used in language bindings but\n",
      "  passed down to XGBoost core.  Or some parameters are not used but slip through this\n",
      "  verification. Please open an issue if you find above cases.\n",
      "\n",
      "\n",
      "[16:13:36] WARNING: C:\\Users\\Administrator\\workspace\\xgboost-win64_release_1.1.0\\src\\learner.cc:480: \n",
      "Parameters: { gamma, max_depth } might not be used.\n",
      "\n",
      "  This may not be accurate due to some parameters are only used in language bindings but\n",
      "  passed down to XGBoost core.  Or some parameters are not used but slip through this\n",
      "  verification. Please open an issue if you find above cases.\n",
      "\n",
      "\n",
      "[16:13:37] WARNING: C:\\Users\\Administrator\\workspace\\xgboost-win64_release_1.1.0\\src\\learner.cc:480: \n",
      "Parameters: { gamma, max_depth } might not be used.\n",
      "\n",
      "  This may not be accurate due to some parameters are only used in language bindings but\n",
      "  passed down to XGBoost core.  Or some parameters are not used but slip through this\n",
      "  verification. Please open an issue if you find above cases.\n",
      "\n",
      "\n",
      "[16:13:37] WARNING: C:\\Users\\Administrator\\workspace\\xgboost-win64_release_1.1.0\\src\\learner.cc:480: \n",
      "Parameters: { gamma, max_depth } might not be used.\n",
      "\n",
      "  This may not be accurate due to some parameters are only used in language bindings but\n",
      "  passed down to XGBoost core.  Or some parameters are not used but slip through this\n",
      "  verification. Please open an issue if you find above cases.\n",
      "\n",
      "\n",
      "[16:13:37] WARNING: C:\\Users\\Administrator\\workspace\\xgboost-win64_release_1.1.0\\src\\learner.cc:480: \n",
      "Parameters: { gamma, max_depth } might not be used.\n",
      "\n",
      "  This may not be accurate due to some parameters are only used in language bindings but\n",
      "  passed down to XGBoost core.  Or some parameters are not used but slip through this\n",
      "  verification. Please open an issue if you find above cases.\n",
      "\n",
      "\n",
      "[16:13:37] WARNING: C:\\Users\\Administrator\\workspace\\xgboost-win64_release_1.1.0\\src\\learner.cc:480: \n",
      "Parameters: { gamma, max_depth } might not be used.\n",
      "\n",
      "  This may not be accurate due to some parameters are only used in language bindings but\n",
      "  passed down to XGBoost core.  Or some parameters are not used but slip through this\n",
      "  verification. Please open an issue if you find above cases.\n",
      "\n",
      "\n",
      "[16:13:37] WARNING: C:\\Users\\Administrator\\workspace\\xgboost-win64_release_1.1.0\\src\\learner.cc:480: \n",
      "Parameters: { gamma, max_depth } might not be used.\n",
      "\n",
      "  This may not be accurate due to some parameters are only used in language bindings but\n",
      "  passed down to XGBoost core.  Or some parameters are not used but slip through this\n",
      "  verification. Please open an issue if you find above cases.\n",
      "\n",
      "\n",
      "[16:13:37] WARNING: C:\\Users\\Administrator\\workspace\\xgboost-win64_release_1.1.0\\src\\learner.cc:480: \n",
      "Parameters: { gamma, max_depth } might not be used.\n",
      "\n",
      "  This may not be accurate due to some parameters are only used in language bindings but\n",
      "  passed down to XGBoost core.  Or some parameters are not used but slip through this\n",
      "  verification. Please open an issue if you find above cases.\n",
      "\n",
      "\n",
      "[16:13:37] WARNING: C:\\Users\\Administrator\\workspace\\xgboost-win64_release_1.1.0\\src\\learner.cc:480: \n",
      "Parameters: { gamma, max_depth } might not be used.\n",
      "\n",
      "  This may not be accurate due to some parameters are only used in language bindings but\n",
      "  passed down to XGBoost core.  Or some parameters are not used but slip through this\n",
      "  verification. Please open an issue if you find above cases.\n",
      "\n",
      "\n",
      "[16:13:37] WARNING: C:\\Users\\Administrator\\workspace\\xgboost-win64_release_1.1.0\\src\\learner.cc:480: \n",
      "Parameters: { gamma, max_depth } might not be used.\n",
      "\n",
      "  This may not be accurate due to some parameters are only used in language bindings but\n",
      "  passed down to XGBoost core.  Or some parameters are not used but slip through this\n",
      "  verification. Please open an issue if you find above cases.\n",
      "\n",
      "\n",
      "[16:13:37] WARNING: C:\\Users\\Administrator\\workspace\\xgboost-win64_release_1.1.0\\src\\learner.cc:480: \n",
      "Parameters: { gamma, max_depth } might not be used.\n",
      "\n",
      "  This may not be accurate due to some parameters are only used in language bindings but\n",
      "  passed down to XGBoost core.  Or some parameters are not used but slip through this\n",
      "  verification. Please open an issue if you find above cases.\n",
      "\n",
      "\n",
      "[16:13:37] WARNING: C:\\Users\\Administrator\\workspace\\xgboost-win64_release_1.1.0\\src\\learner.cc:480: \n",
      "Parameters: { gamma, max_depth } might not be used.\n",
      "\n",
      "  This may not be accurate due to some parameters are only used in language bindings but\n",
      "  passed down to XGBoost core.  Or some parameters are not used but slip through this\n",
      "  verification. Please open an issue if you find above cases.\n",
      "\n",
      "\n",
      "[16:13:37] WARNING: C:\\Users\\Administrator\\workspace\\xgboost-win64_release_1.1.0\\src\\learner.cc:480: \n",
      "Parameters: { gamma, max_depth } might not be used.\n",
      "\n",
      "  This may not be accurate due to some parameters are only used in language bindings but\n",
      "  passed down to XGBoost core.  Or some parameters are not used but slip through this\n",
      "  verification. Please open an issue if you find above cases.\n",
      "\n",
      "\n",
      "[16:13:37] WARNING: C:\\Users\\Administrator\\workspace\\xgboost-win64_release_1.1.0\\src\\learner.cc:480: \n",
      "Parameters: { gamma, max_depth } might not be used.\n",
      "\n",
      "  This may not be accurate due to some parameters are only used in language bindings but\n",
      "  passed down to XGBoost core.  Or some parameters are not used but slip through this\n",
      "  verification. Please open an issue if you find above cases.\n",
      "\n",
      "\n",
      "[16:13:37] WARNING: C:\\Users\\Administrator\\workspace\\xgboost-win64_release_1.1.0\\src\\learner.cc:480: \n",
      "Parameters: { gamma, max_depth } might not be used.\n",
      "\n",
      "  This may not be accurate due to some parameters are only used in language bindings but\n",
      "  passed down to XGBoost core.  Or some parameters are not used but slip through this\n",
      "  verification. Please open an issue if you find above cases.\n",
      "\n",
      "\n",
      "[16:13:37] WARNING: C:\\Users\\Administrator\\workspace\\xgboost-win64_release_1.1.0\\src\\learner.cc:480: \n",
      "Parameters: { gamma, max_depth } might not be used.\n",
      "\n",
      "  This may not be accurate due to some parameters are only used in language bindings but\n",
      "  passed down to XGBoost core.  Or some parameters are not used but slip through this\n",
      "  verification. Please open an issue if you find above cases.\n",
      "\n",
      "\n",
      "[16:13:37] WARNING: C:\\Users\\Administrator\\workspace\\xgboost-win64_release_1.1.0\\src\\learner.cc:480: \n",
      "Parameters: { gamma, max_depth } might not be used.\n",
      "\n",
      "  This may not be accurate due to some parameters are only used in language bindings but\n",
      "  passed down to XGBoost core.  Or some parameters are not used but slip through this\n",
      "  verification. Please open an issue if you find above cases.\n",
      "\n",
      "\n",
      "[16:13:37] WARNING: C:\\Users\\Administrator\\workspace\\xgboost-win64_release_1.1.0\\src\\learner.cc:480: \n",
      "Parameters: { gamma, max_depth } might not be used.\n",
      "\n",
      "  This may not be accurate due to some parameters are only used in language bindings but\n",
      "  passed down to XGBoost core.  Or some parameters are not used but slip through this\n",
      "  verification. Please open an issue if you find above cases.\n",
      "\n",
      "\n",
      "[16:13:37] WARNING: C:\\Users\\Administrator\\workspace\\xgboost-win64_release_1.1.0\\src\\learner.cc:480: \n",
      "Parameters: { gamma, max_depth } might not be used.\n",
      "\n",
      "  This may not be accurate due to some parameters are only used in language bindings but\n",
      "  passed down to XGBoost core.  Or some parameters are not used but slip through this\n",
      "  verification. Please open an issue if you find above cases.\n",
      "\n",
      "\n",
      "[16:13:37] WARNING: C:\\Users\\Administrator\\workspace\\xgboost-win64_release_1.1.0\\src\\learner.cc:480: \n",
      "Parameters: { gamma, max_depth } might not be used.\n",
      "\n",
      "  This may not be accurate due to some parameters are only used in language bindings but\n",
      "  passed down to XGBoost core.  Or some parameters are not used but slip through this\n",
      "  verification. Please open an issue if you find above cases.\n",
      "\n",
      "\n",
      "[16:13:37] WARNING: C:\\Users\\Administrator\\workspace\\xgboost-win64_release_1.1.0\\src\\learner.cc:480: \n",
      "Parameters: { gamma, max_depth } might not be used.\n",
      "\n",
      "  This may not be accurate due to some parameters are only used in language bindings but\n",
      "  passed down to XGBoost core.  Or some parameters are not used but slip through this\n",
      "  verification. Please open an issue if you find above cases.\n",
      "\n",
      "\n",
      "[16:13:37] WARNING: C:\\Users\\Administrator\\workspace\\xgboost-win64_release_1.1.0\\src\\learner.cc:480: \n",
      "Parameters: { gamma, max_depth } might not be used.\n",
      "\n",
      "  This may not be accurate due to some parameters are only used in language bindings but\n",
      "  passed down to XGBoost core.  Or some parameters are not used but slip through this\n",
      "  verification. Please open an issue if you find above cases.\n",
      "\n",
      "\n",
      "[16:13:37] WARNING: C:\\Users\\Administrator\\workspace\\xgboost-win64_release_1.1.0\\src\\learner.cc:480: \n",
      "Parameters: { gamma, max_depth } might not be used.\n",
      "\n",
      "  This may not be accurate due to some parameters are only used in language bindings but\n",
      "  passed down to XGBoost core.  Or some parameters are not used but slip through this\n",
      "  verification. Please open an issue if you find above cases.\n",
      "\n"
     ]
    },
    {
     "name": "stdout",
     "output_type": "stream",
     "text": [
      "\n",
      "[16:13:37] WARNING: C:\\Users\\Administrator\\workspace\\xgboost-win64_release_1.1.0\\src\\learner.cc:480: \n",
      "Parameters: { gamma, max_depth } might not be used.\n",
      "\n",
      "  This may not be accurate due to some parameters are only used in language bindings but\n",
      "  passed down to XGBoost core.  Or some parameters are not used but slip through this\n",
      "  verification. Please open an issue if you find above cases.\n",
      "\n",
      "\n",
      "[16:13:37] WARNING: C:\\Users\\Administrator\\workspace\\xgboost-win64_release_1.1.0\\src\\learner.cc:480: \n",
      "Parameters: { gamma, max_depth } might not be used.\n",
      "\n",
      "  This may not be accurate due to some parameters are only used in language bindings but\n",
      "  passed down to XGBoost core.  Or some parameters are not used but slip through this\n",
      "  verification. Please open an issue if you find above cases.\n",
      "\n",
      "\n",
      "[16:13:37] WARNING: C:\\Users\\Administrator\\workspace\\xgboost-win64_release_1.1.0\\src\\learner.cc:480: \n",
      "Parameters: { gamma, max_depth } might not be used.\n",
      "\n",
      "  This may not be accurate due to some parameters are only used in language bindings but\n",
      "  passed down to XGBoost core.  Or some parameters are not used but slip through this\n",
      "  verification. Please open an issue if you find above cases.\n",
      "\n",
      "\n",
      "[16:13:37] WARNING: C:\\Users\\Administrator\\workspace\\xgboost-win64_release_1.1.0\\src\\learner.cc:480: \n",
      "Parameters: { gamma, max_depth } might not be used.\n",
      "\n",
      "  This may not be accurate due to some parameters are only used in language bindings but\n",
      "  passed down to XGBoost core.  Or some parameters are not used but slip through this\n",
      "  verification. Please open an issue if you find above cases.\n",
      "\n",
      "\n",
      "[16:13:37] WARNING: C:\\Users\\Administrator\\workspace\\xgboost-win64_release_1.1.0\\src\\learner.cc:480: \n",
      "Parameters: { gamma, max_depth } might not be used.\n",
      "\n",
      "  This may not be accurate due to some parameters are only used in language bindings but\n",
      "  passed down to XGBoost core.  Or some parameters are not used but slip through this\n",
      "  verification. Please open an issue if you find above cases.\n",
      "\n",
      "\n",
      "[16:13:37] WARNING: C:\\Users\\Administrator\\workspace\\xgboost-win64_release_1.1.0\\src\\learner.cc:480: \n",
      "Parameters: { gamma, max_depth } might not be used.\n",
      "\n",
      "  This may not be accurate due to some parameters are only used in language bindings but\n",
      "  passed down to XGBoost core.  Or some parameters are not used but slip through this\n",
      "  verification. Please open an issue if you find above cases.\n",
      "\n",
      "\n",
      "[16:13:37] WARNING: C:\\Users\\Administrator\\workspace\\xgboost-win64_release_1.1.0\\src\\learner.cc:480: \n",
      "Parameters: { gamma, max_depth } might not be used.\n",
      "\n",
      "  This may not be accurate due to some parameters are only used in language bindings but\n",
      "  passed down to XGBoost core.  Or some parameters are not used but slip through this\n",
      "  verification. Please open an issue if you find above cases.\n",
      "\n",
      "\n",
      "[16:13:37] WARNING: C:\\Users\\Administrator\\workspace\\xgboost-win64_release_1.1.0\\src\\learner.cc:480: \n",
      "Parameters: { gamma, max_depth } might not be used.\n",
      "\n",
      "  This may not be accurate due to some parameters are only used in language bindings but\n",
      "  passed down to XGBoost core.  Or some parameters are not used but slip through this\n",
      "  verification. Please open an issue if you find above cases.\n",
      "\n",
      "\n",
      "[16:13:37] WARNING: C:\\Users\\Administrator\\workspace\\xgboost-win64_release_1.1.0\\src\\learner.cc:480: \n",
      "Parameters: { gamma, max_depth } might not be used.\n",
      "\n",
      "  This may not be accurate due to some parameters are only used in language bindings but\n",
      "  passed down to XGBoost core.  Or some parameters are not used but slip through this\n",
      "  verification. Please open an issue if you find above cases.\n",
      "\n",
      "\n",
      "[16:13:37] WARNING: C:\\Users\\Administrator\\workspace\\xgboost-win64_release_1.1.0\\src\\learner.cc:480: \n",
      "Parameters: { gamma, max_depth } might not be used.\n",
      "\n",
      "  This may not be accurate due to some parameters are only used in language bindings but\n",
      "  passed down to XGBoost core.  Or some parameters are not used but slip through this\n",
      "  verification. Please open an issue if you find above cases.\n",
      "\n",
      "\n",
      "[16:13:37] WARNING: C:\\Users\\Administrator\\workspace\\xgboost-win64_release_1.1.0\\src\\learner.cc:480: \n",
      "Parameters: { gamma, max_depth } might not be used.\n",
      "\n",
      "  This may not be accurate due to some parameters are only used in language bindings but\n",
      "  passed down to XGBoost core.  Or some parameters are not used but slip through this\n",
      "  verification. Please open an issue if you find above cases.\n",
      "\n",
      "\n",
      "[16:13:37] WARNING: C:\\Users\\Administrator\\workspace\\xgboost-win64_release_1.1.0\\src\\learner.cc:480: \n",
      "Parameters: { gamma, max_depth } might not be used.\n",
      "\n",
      "  This may not be accurate due to some parameters are only used in language bindings but\n",
      "  passed down to XGBoost core.  Or some parameters are not used but slip through this\n",
      "  verification. Please open an issue if you find above cases.\n",
      "\n",
      "\n",
      "[16:13:37] WARNING: C:\\Users\\Administrator\\workspace\\xgboost-win64_release_1.1.0\\src\\learner.cc:480: \n",
      "Parameters: { gamma, max_depth } might not be used.\n",
      "\n",
      "  This may not be accurate due to some parameters are only used in language bindings but\n",
      "  passed down to XGBoost core.  Or some parameters are not used but slip through this\n",
      "  verification. Please open an issue if you find above cases.\n",
      "\n",
      "\n",
      "XGBoost Classifier\n",
      "Best Score: 83.8%\n",
      "Best Parameters: {'booster': 'gbtree', 'eta': 0.7, 'gamma': 3, 'max_depth': 6, 'random_state': 0}\n"
     ]
    },
    {
     "name": "stderr",
     "output_type": "stream",
     "text": [
      "[Parallel(n_jobs=1)]: Done  80 out of  80 | elapsed:    6.2s finished\n"
     ]
    }
   ],
   "source": [
    "#XGBoost Classifier | Randomized Search\n",
    "\n",
    "xgb = XGBClassifier()\n",
    "param_grid = {'booster': ['gbtree', 'gblinear','dart'],\n",
    "             'eta': [.1,.3,.7,1],\n",
    "             'gamma': [0,1,5,10],\n",
    "             'max_depth': [6,9,11], \n",
    "             'random_state': [0]}\n",
    "search_xgb = GridSearchCV(xgb, param_grid=param_grid, cv=5, verbose=True, n_jobs = 1)\n",
    "tuned_xgb = search_xgb.fit(x_train_scl,y_train)\n",
    "tune_report(tuned_xgb,'XGBoost Classifier')"
   ]
  },
  {
   "cell_type": "code",
   "execution_count": null,
   "metadata": {},
   "outputs": [],
   "source": [
    "#XGBoost Classifier | Exhaustive Search\n",
    "\n",
    "param_grid = {'booster': ['gbtree', 'gblinear'],\n",
    "             'eta': [.3,.7],\n",
    "             'gamma': [3,5],\n",
    "             'max_depth': [6,9], \n",
    "             'random_state': [0]}\n",
    "search_xgb = GridSearchCV(xgb, param_grid=param_grid, cv=5, verbose=True, n_jobs = 1)\n",
    "tuned_xgb = search_xgb.fit(x_train_scl,y_train)\n",
    "tune_report(tuned_xgb,'XGBoost Classifier')"
   ]
  },
  {
   "cell_type": "code",
   "execution_count": 53,
   "metadata": {},
   "outputs": [],
   "source": [
    "#Create submission using XGBoost\n",
    "y_pred_xgb = tuned_xgb.best_estimator_.predict(x_test_scl)\n",
    "data_xgb = {'PassengerID': test.PassengerId, 'Survived': y_pred_xgb}\n",
    "submission_xgb = pd.DataFrame(data=data_xgb)\n",
    "submission_xgb.to_csv('xgb_submission.csv', index=False)"
   ]
  },
  {
   "cell_type": "code",
   "execution_count": null,
   "metadata": {},
   "outputs": [],
   "source": [
    "6. Data Model Validation and Reporting | Visualize, report, and present the problem solving steps and final solution."
   ]
  },
  {
   "cell_type": "code",
   "execution_count": null,
   "metadata": {},
   "outputs": [],
   "source": [
    "Report: Model Post-Tuned Performance  (Pre-tuned | Post-tuned)\n",
    "\n",
    "#Note: only tuned non-baseline models with likely superior performance\n",
    "\n",
    "- Logistic Regression (82.6% | 82.1%)\n",
    "- Random Forest (81.2% | 83.0%)\n",
    "- K-Nearest Neighbors (82.5% | 81.2%)\n",
    "- Support Vector Classifier (83.1% | 81.2%)\n",
    "- AdaBoost Classifier (82.0% | 81.9%)\n",
    "- XGBoost Classifier (82.9% | 83.8%) \n",
    "\n",
    "- Soft Vote Classifier (83.7% | %)\n",
    "- Hard Vote Classifier (84.1% | %)  #Best Ensemble     "
   ]
  },
  {
   "cell_type": "code",
   "execution_count": 93,
   "metadata": {},
   "outputs": [
    {
     "data": {
      "text/plain": [
       "<matplotlib.axes._subplots.AxesSubplot at 0x153c8772a08>"
      ]
     },
     "execution_count": 93,
     "metadata": {},
     "output_type": "execute_result"
    },
    {
     "data": {
      "image/png": "[encoded data removed]",
      "text/plain": [
       "<Figure size 432x288 with 1 Axes>"
      ]
     },
     "metadata": {},
     "output_type": "display_data"
    }
   ],
   "source": [
    "#let's visualize the importance of each factor in random forest model\n",
    "best_rf = tuned_rf.best_estimator_.fit(x_train_scl,y_train)\n",
    "feat_rank = pd.Series(best_rf.feature_importances_, index=x_train_scl.columns)\n",
    "feat_rank.nlargest(10).plot(kind='pie')"
   ]
  },
  {
   "cell_type": "code",
   "execution_count": 96,
   "metadata": {},
   "outputs": [
    {
     "data": {
      "text/plain": [
       "<matplotlib.axes._subplots.AxesSubplot at 0x153c887c748>"
      ]
     },
     "execution_count": 96,
     "metadata": {},
     "output_type": "execute_result"
    },
    {
     "data": {
      "image/png": "[encoded data removed]",
      "text/plain": [
       "<Figure size 432x288 with 1 Axes>"
      ]
     },
     "metadata": {
      "needs_background": "light"
     },
     "output_type": "display_data"
    }
   ],
   "source": [
    "#let's view the value of importance of each factor in random forest model\n",
    "best_rf = tuned_rf.best_estimator_.fit(x_train_scl,y_train)\n",
    "df = tuple(zip(x_train_scl.columns,best_rf.feature_importances_))\n",
    "feat_rank = pd.DataFrame(df, columns=['feat_name','feat_rank'])\n",
    "feat_rank.nlargest(10,'feat_rank').plot(kind='barh',x='feat_name',y='feat_rank')"
   ]
  },
  {
   "cell_type": "code",
   "execution_count": 32,
   "metadata": {},
   "outputs": [],
   "source": [
    "#Create submission using random forest \n",
    "y_pred_rf = tuned_rf.best_estimator_.predict(x_test_scl)\n",
    "data_rf = {'PassengerID': test.PassengerId, 'Survived': y_pred_rf}\n",
    "submission_rf = pd.DataFrame(data=data_rf)\n",
    "submission_rf.to_csv('rf_submission.csv', index=False)"
   ]
  },
  {
   "cell_type": "code",
   "execution_count": 25,
   "metadata": {},
   "outputs": [
    {
     "data": {
      "text/plain": [
       "<matplotlib.axes._subplots.AxesSubplot at 0x1ea20bc2f88>"
      ]
     },
     "execution_count": 25,
     "metadata": {},
     "output_type": "execute_result"
    },
    {
     "data": {
      "image/png": "[encoded data removed]",
      "text/plain": [
       "<Figure size 432x288 with 1 Axes>"
      ]
     },
     "metadata": {
      "needs_background": "light"
     },
     "output_type": "display_data"
    }
   ],
   "source": [
    "#let's visualize the importance of each factor in adaboost model in copmarison\n",
    "best_ada = tuned_ada.best_estimator_.fit(x_train_scl,y_train)\n",
    "df = tuple(zip(x_train_scl.columns,best_ada.feature_importances_))\n",
    "feat_rank = pd.DataFrame(df, columns=['feat_name','feat_rank'])\n",
    "feat_rank.nlargest(10,'feat_rank').plot(kind='barh',x='feat_name',y='feat_rank')"
   ]
  },
  {
   "cell_type": "code",
   "execution_count": 52,
   "metadata": {},
   "outputs": [],
   "source": [
    "#Create submission using Adaboost \n",
    "y_pred_ada = tuned_ada.best_estimator_.predict(x_test_scl)\n",
    "data_ada = {'PassengerID': test.PassengerId, 'Survived': y_pred_ada}\n",
    "submission_ada = pd.DataFrame(data=data_ada)\n",
    "submission_ada.to_csv('ada_submission.csv', index=False)"
   ]
  },
  {
   "cell_type": "code",
   "execution_count": null,
   "metadata": {},
   "outputs": [],
   "source": [
    "#Lastly, let's see if we can improve performance with a Hard and Soft Vote Ensemble"
   ]
  },
  {
   "cell_type": "code",
   "execution_count": 47,
   "metadata": {},
   "outputs": [],
   "source": [
    "#create best models\n",
    "best_lr = tuned_lr.best_estimator_\n",
    "best_rf = tuned_rf.best_estimator_\n",
    "best_kn = tuned_kn.best_estimator_\n",
    "best_svc = tuned_svc.best_estimator_\n",
    "best_ada = tuned_ada.best_estimator_\n",
    "best_xgb = tuned_xgb.best_estimator_"
   ]
  },
  {
   "cell_type": "code",
   "execution_count": 48,
   "metadata": {},
   "outputs": [
    {
     "name": "stdout",
     "output_type": "stream",
     "text": [
      "[81. 87. 76. 89. 88. 82. 85. 79. 90. 84.]\n",
      "Voting Classifier Accuracy: 84.03\n",
      "Run time: 0:00:09.841678\n"
     ]
    }
   ],
   "source": [
    "#Hard Voting Ensemble\n",
    "\n",
    "start_time = time.time()\n",
    "\n",
    "hard_vote = VotingClassifier(estimators=[('xgb',best_xgb), ('ada',best_ada), ('rf',best_rf),('svc',best_svc), ('kn',best_kn), ('lr',best_lr)], voting='hard')\n",
    "score_vote = cv_score(hard_vote, x_train_scl, y_train,cv=10)\n",
    "\n",
    "run_time = (time.time() - start_time)\n",
    "\n",
    "print(score_vote.round(2)*100) \n",
    "print(\"Voting Classifier Accuracy: %s\" % round(score_vote.mean()*100,2)) \n",
    "print(\"Run time: %s\" % datetime.timedelta(seconds=run_time))"
   ]
  },
  {
   "cell_type": "code",
   "execution_count": 49,
   "metadata": {},
   "outputs": [
    {
     "name": "stdout",
     "output_type": "stream",
     "text": [
      "[81. 87. 78. 89. 85. 81. 84. 79. 89. 85.]\n",
      "Voting Classifier Accuracy: 83.69\n",
      "Run time: 0:00:09.478987\n"
     ]
    }
   ],
   "source": [
    "#Soft Voting Ensemble\n",
    "\n",
    "start_time = time.time()\n",
    "\n",
    "soft_vote = VotingClassifier(estimators=[('xgb',best_xgb), ('ada',best_ada), ('rf',best_rf),('svc',best_svc), ('kn',best_kn), ('lr',best_lr)], voting='soft')\n",
    "score_vote = cv_score(soft_vote, x_train_scl, y_train,cv=10)\n",
    "\n",
    "run_time = (time.time() - start_time)\n",
    "\n",
    "print(score_vote.round(2)*100) \n",
    "print(\"Voting Classifier Accuracy: %s\" % round(score_vote.mean()*100,2)) \n",
    "print(\"Run time: %s\" % datetime.timedelta(seconds=run_time))"
   ]
  },
  {
   "cell_type": "code",
   "execution_count": null,
   "metadata": {},
   "outputs": [],
   "source": [
    "7. Solution Submission | Supply or submit the results."
   ]
  },
  {
   "cell_type": "code",
   "execution_count": 50,
   "metadata": {},
   "outputs": [],
   "source": [
    "#Create final submissions using hard and soft ensembles | Hard Voting Ensemble\n",
    "hard_vote.fit(x_train_scl, y_train)\n",
    "y_pred_hardvote = hard_vote.predict(x_test_scl)\n",
    "submission_hardvote = {'PassengerID': test.PassengerId, 'Survived': y_pred_hardvote}\n",
    "submission_hv = pd.DataFrame(data=submission_hardvote)\n",
    "submission_hv.to_csv('hardvote_submission.csv', index=False)"
   ]
  },
  {
   "cell_type": "code",
   "execution_count": 51,
   "metadata": {},
   "outputs": [],
   "source": [
    "#Create final submissions using hard and soft ensembles | Soft Voting Ensemble\n",
    "soft_vote.fit(x_train_scl, y_train)\n",
    "y_pred_softvote = soft_vote.predict(x_test_scl)\n",
    "submission_softvote = {'PassengerID': test.PassengerId, 'Survived': y_pred_softvote}\n",
    "submission_sv = pd.DataFrame(data=submission_softvote)\n",
    "submission_sv.to_csv('softvote_submission.csv', index=False)"
   ]
  },
  {
   "cell_type": "code",
   "execution_count": 60,
   "metadata": {},
   "outputs": [],
   "source": [
    "#let's compare the outputs of all our submissions\n",
    "all_subs = {'PassengerID': test.PassengerId, 'Survived_hv': y_pred_hardvote,'Survived_sv': y_pred_softvote,\n",
    "           'Survived_ada': y_pred_ada, 'Survived_rf': y_pred_rf, 'Survived_xgb': y_pred_xgb, \n",
    "            'Survived_baseline': y_pred_hardvote}\n",
    "\n",
    "df_allsubs = pd.DataFrame(data=all_subs)"
   ]
  },
  {
   "cell_type": "code",
   "execution_count": 61,
   "metadata": {},
   "outputs": [
    {
     "data": {
      "text/plain": [
       "0    399\n",
       "1     19\n",
       "Name: diff_baseline_other, dtype: int64"
      ]
     },
     "execution_count": 61,
     "metadata": {},
     "output_type": "execute_result"
    }
   ],
   "source": [
    "df_allsubs['diff_baseline_other'] = df_allsubs.apply(lambda x: 1 if x.Survived_baseline != x.Survived_rf else 0, axis=1)\n",
    "df_allsubs['diff_baseline_other'].value_counts()"
   ]
  }
 ],
 "metadata": {
  "kernelspec": {
   "display_name": "Python 3",
   "language": "python",
   "name": "python3"
  },
  "language_info": {
   "codemirror_mode": {
    "name": "ipython",
    "version": 3
   },
   "file_extension": ".py",
   "mimetype": "text/x-python",
   "name": "python",
   "nbconvert_exporter": "python",
   "pygments_lexer": "ipython3",
   "version": "3.7.4"
  }
 },
 "nbformat": 4,
 "nbformat_minor": 2
}
